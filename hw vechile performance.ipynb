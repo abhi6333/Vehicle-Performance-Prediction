{
 "cells": [
  {
   "cell_type": "code",
   "execution_count": 143,
   "id": "5226454b-8b59-4470-a173-dabbaf818fd9",
   "metadata": {},
   "outputs": [
    {
     "ename": "SyntaxError",
     "evalue": "invalid syntax (<ipython-input-143-60b0c454d318>, line 9)",
     "output_type": "error",
     "traceback": [
      "\u001b[1;36m  File \u001b[1;32m\"<ipython-input-143-60b0c454d318>\"\u001b[1;36m, line \u001b[1;32m9\u001b[0m\n\u001b[1;33m    pip install tabulate\u001b[0m\n\u001b[1;37m        ^\u001b[0m\n\u001b[1;31mSyntaxError\u001b[0m\u001b[1;31m:\u001b[0m invalid syntax\n"
     ]
    }
   ],
   "source": [
    "import pandas as pd\n",
    "import numpy as np\n",
    "import scipy.stats as stats\n",
    "import matplotlib.pyplot as plt\n",
    "import seaborn as sns\n",
    "# Set default setting of seaborn\n",
    "sns.set()\n",
    "import statsmodels.api as sm\n"
   ]
  },
  {
   "cell_type": "code",
   "execution_count": 144,
   "id": "36200657-7b96-4a3a-938b-8ef5ff1b3129",
   "metadata": {},
   "outputs": [
    {
     "name": "stdout",
     "output_type": "stream",
     "text": [
      "Collecting tabulateNote: you may need to restart the kernel to use updated packages.\n",
      "  Downloading tabulate-0.8.9-py3-none-any.whl (25 kB)\n",
      "Installing collected packages: tabulate\n",
      "Successfully installed tabulate-0.8.9\n",
      "\n"
     ]
    }
   ],
   "source": [
    "pip install tabulate"
   ]
  },
  {
   "cell_type": "code",
   "execution_count": 2,
   "id": "5944e736-c285-4569-bf02-46f2e134f581",
   "metadata": {},
   "outputs": [],
   "source": [
    "raw_data = pd.read_csv('data.csv')"
   ]
  },
  {
   "cell_type": "code",
   "execution_count": 3,
   "id": "10f77003-05c0-43ce-af36-a197fec8e9fa",
   "metadata": {},
   "outputs": [
    {
     "data": {
      "text/html": [
       "<div>\n",
       "<style scoped>\n",
       "    .dataframe tbody tr th:only-of-type {\n",
       "        vertical-align: middle;\n",
       "    }\n",
       "\n",
       "    .dataframe tbody tr th {\n",
       "        vertical-align: top;\n",
       "    }\n",
       "\n",
       "    .dataframe thead th {\n",
       "        text-align: right;\n",
       "    }\n",
       "</style>\n",
       "<table border=\"1\" class=\"dataframe\">\n",
       "  <thead>\n",
       "    <tr style=\"text-align: right;\">\n",
       "      <th></th>\n",
       "      <th>origin</th>\n",
       "      <th>cylinders</th>\n",
       "      <th>displacement</th>\n",
       "      <th>horsepower</th>\n",
       "      <th>weight</th>\n",
       "      <th>acceleration</th>\n",
       "      <th>year</th>\n",
       "      <th>name</th>\n",
       "      <th>Kilometer_per_liter</th>\n",
       "    </tr>\n",
       "  </thead>\n",
       "  <tbody>\n",
       "    <tr>\n",
       "      <th>0</th>\n",
       "      <td>1</td>\n",
       "      <td>8</td>\n",
       "      <td>307.0</td>\n",
       "      <td>130</td>\n",
       "      <td>3504</td>\n",
       "      <td>12.0</td>\n",
       "      <td>1970</td>\n",
       "      <td>chevrolet chevelle malibu</td>\n",
       "      <td>7.652587</td>\n",
       "    </tr>\n",
       "    <tr>\n",
       "      <th>1</th>\n",
       "      <td>1</td>\n",
       "      <td>8</td>\n",
       "      <td>350.0</td>\n",
       "      <td>165</td>\n",
       "      <td>3693</td>\n",
       "      <td>11.5</td>\n",
       "      <td>1970</td>\n",
       "      <td>buick skylark 320</td>\n",
       "      <td>6.377156</td>\n",
       "    </tr>\n",
       "    <tr>\n",
       "      <th>2</th>\n",
       "      <td>1</td>\n",
       "      <td>8</td>\n",
       "      <td>318.0</td>\n",
       "      <td>150</td>\n",
       "      <td>3436</td>\n",
       "      <td>11.0</td>\n",
       "      <td>1970</td>\n",
       "      <td>plymouth satellite</td>\n",
       "      <td>7.652587</td>\n",
       "    </tr>\n",
       "    <tr>\n",
       "      <th>3</th>\n",
       "      <td>1</td>\n",
       "      <td>8</td>\n",
       "      <td>304.0</td>\n",
       "      <td>150</td>\n",
       "      <td>3433</td>\n",
       "      <td>12.0</td>\n",
       "      <td>1970</td>\n",
       "      <td>amc rebel sst</td>\n",
       "      <td>6.802299</td>\n",
       "    </tr>\n",
       "    <tr>\n",
       "      <th>4</th>\n",
       "      <td>1</td>\n",
       "      <td>8</td>\n",
       "      <td>302.0</td>\n",
       "      <td>140</td>\n",
       "      <td>3449</td>\n",
       "      <td>10.5</td>\n",
       "      <td>1970</td>\n",
       "      <td>ford torino</td>\n",
       "      <td>7.227443</td>\n",
       "    </tr>\n",
       "    <tr>\n",
       "      <th>...</th>\n",
       "      <td>...</td>\n",
       "      <td>...</td>\n",
       "      <td>...</td>\n",
       "      <td>...</td>\n",
       "      <td>...</td>\n",
       "      <td>...</td>\n",
       "      <td>...</td>\n",
       "      <td>...</td>\n",
       "      <td>...</td>\n",
       "    </tr>\n",
       "    <tr>\n",
       "      <th>393</th>\n",
       "      <td>1</td>\n",
       "      <td>4</td>\n",
       "      <td>140.0</td>\n",
       "      <td>86</td>\n",
       "      <td>2790</td>\n",
       "      <td>15.6</td>\n",
       "      <td>1982</td>\n",
       "      <td>ford mustang gl</td>\n",
       "      <td>11.478880</td>\n",
       "    </tr>\n",
       "    <tr>\n",
       "      <th>394</th>\n",
       "      <td>2</td>\n",
       "      <td>4</td>\n",
       "      <td>97.0</td>\n",
       "      <td>52</td>\n",
       "      <td>2130</td>\n",
       "      <td>24.6</td>\n",
       "      <td>1982</td>\n",
       "      <td>vw pickup</td>\n",
       "      <td>18.706323</td>\n",
       "    </tr>\n",
       "    <tr>\n",
       "      <th>395</th>\n",
       "      <td>1</td>\n",
       "      <td>4</td>\n",
       "      <td>135.0</td>\n",
       "      <td>84</td>\n",
       "      <td>2295</td>\n",
       "      <td>11.6</td>\n",
       "      <td>1982</td>\n",
       "      <td>dodge rampage</td>\n",
       "      <td>13.604599</td>\n",
       "    </tr>\n",
       "    <tr>\n",
       "      <th>396</th>\n",
       "      <td>1</td>\n",
       "      <td>4</td>\n",
       "      <td>120.0</td>\n",
       "      <td>79</td>\n",
       "      <td>2625</td>\n",
       "      <td>18.6</td>\n",
       "      <td>1982</td>\n",
       "      <td>ford ranger</td>\n",
       "      <td>11.904024</td>\n",
       "    </tr>\n",
       "    <tr>\n",
       "      <th>397</th>\n",
       "      <td>1</td>\n",
       "      <td>4</td>\n",
       "      <td>119.0</td>\n",
       "      <td>82</td>\n",
       "      <td>2720</td>\n",
       "      <td>19.4</td>\n",
       "      <td>1982</td>\n",
       "      <td>chevy s-10</td>\n",
       "      <td>13.179455</td>\n",
       "    </tr>\n",
       "  </tbody>\n",
       "</table>\n",
       "<p>398 rows × 9 columns</p>\n",
       "</div>"
      ],
      "text/plain": [
       "     origin  cylinders  displacement horsepower  weight  acceleration  year  \\\n",
       "0         1          8         307.0        130    3504          12.0  1970   \n",
       "1         1          8         350.0        165    3693          11.5  1970   \n",
       "2         1          8         318.0        150    3436          11.0  1970   \n",
       "3         1          8         304.0        150    3433          12.0  1970   \n",
       "4         1          8         302.0        140    3449          10.5  1970   \n",
       "..      ...        ...           ...        ...     ...           ...   ...   \n",
       "393       1          4         140.0         86    2790          15.6  1982   \n",
       "394       2          4          97.0         52    2130          24.6  1982   \n",
       "395       1          4         135.0         84    2295          11.6  1982   \n",
       "396       1          4         120.0         79    2625          18.6  1982   \n",
       "397       1          4         119.0         82    2720          19.4  1982   \n",
       "\n",
       "                          name  Kilometer_per_liter  \n",
       "0    chevrolet chevelle malibu             7.652587  \n",
       "1            buick skylark 320             6.377156  \n",
       "2           plymouth satellite             7.652587  \n",
       "3                amc rebel sst             6.802299  \n",
       "4                  ford torino             7.227443  \n",
       "..                         ...                  ...  \n",
       "393            ford mustang gl            11.478880  \n",
       "394                  vw pickup            18.706323  \n",
       "395              dodge rampage            13.604599  \n",
       "396                ford ranger            11.904024  \n",
       "397                 chevy s-10            13.179455  \n",
       "\n",
       "[398 rows x 9 columns]"
      ]
     },
     "execution_count": 3,
     "metadata": {},
     "output_type": "execute_result"
    }
   ],
   "source": [
    "raw_data"
   ]
  },
  {
   "cell_type": "code",
   "execution_count": 4,
   "id": "f577800d-fca0-4ebc-b8b8-3721d3a8edfb",
   "metadata": {},
   "outputs": [],
   "source": [
    "pd.set_option('display.max_rows', None)"
   ]
  },
  {
   "cell_type": "code",
   "execution_count": 5,
   "id": "645937ac-7351-4eea-9e0b-26b5d8fbae6c",
   "metadata": {},
   "outputs": [
    {
     "name": "stdout",
     "output_type": "stream",
     "text": [
      "<class 'pandas.core.frame.DataFrame'>\n",
      "RangeIndex: 398 entries, 0 to 397\n",
      "Data columns (total 9 columns):\n",
      " #   Column               Non-Null Count  Dtype  \n",
      "---  ------               --------------  -----  \n",
      " 0   origin               398 non-null    int64  \n",
      " 1   cylinders            398 non-null    int64  \n",
      " 2   displacement         398 non-null    float64\n",
      " 3   horsepower           398 non-null    object \n",
      " 4   weight               398 non-null    int64  \n",
      " 5   acceleration         398 non-null    float64\n",
      " 6   year                 398 non-null    int64  \n",
      " 7   name                 398 non-null    object \n",
      " 8   Kilometer_per_liter  398 non-null    float64\n",
      "dtypes: float64(3), int64(4), object(2)\n",
      "memory usage: 28.1+ KB\n"
     ]
    }
   ],
   "source": [
    "raw_data.info()"
   ]
  },
  {
   "cell_type": "code",
   "execution_count": 6,
   "id": "c6488223-d035-471c-a394-53a981561064",
   "metadata": {},
   "outputs": [
    {
     "data": {
      "text/plain": [
       "origin\n",
       "1    249\n",
       "3     79\n",
       "2     70\n",
       "dtype: int64"
      ]
     },
     "execution_count": 6,
     "metadata": {},
     "output_type": "execute_result"
    }
   ],
   "source": [
    "raw_data.value_counts(\"origin\") # count of the unique data of origin"
   ]
  },
  {
   "cell_type": "code",
   "execution_count": 7,
   "id": "c199a942-47ab-48ba-b698-2249e04db384",
   "metadata": {},
   "outputs": [],
   "source": [
    "data = raw_data.copy(deep = True) # created a copy to do experiment"
   ]
  },
  {
   "cell_type": "code",
   "execution_count": 8,
   "id": "99b1f27d-7b36-400e-a169-75090f302589",
   "metadata": {},
   "outputs": [
    {
     "data": {
      "text/html": [
       "<div>\n",
       "<style scoped>\n",
       "    .dataframe tbody tr th:only-of-type {\n",
       "        vertical-align: middle;\n",
       "    }\n",
       "\n",
       "    .dataframe tbody tr th {\n",
       "        vertical-align: top;\n",
       "    }\n",
       "\n",
       "    .dataframe thead th {\n",
       "        text-align: right;\n",
       "    }\n",
       "</style>\n",
       "<table border=\"1\" class=\"dataframe\">\n",
       "  <thead>\n",
       "    <tr style=\"text-align: right;\">\n",
       "      <th></th>\n",
       "      <th>origin</th>\n",
       "      <th>cylinders</th>\n",
       "      <th>displacement</th>\n",
       "      <th>horsepower</th>\n",
       "      <th>weight</th>\n",
       "      <th>acceleration</th>\n",
       "      <th>year</th>\n",
       "      <th>name</th>\n",
       "      <th>Kilometer_per_liter</th>\n",
       "    </tr>\n",
       "  </thead>\n",
       "  <tbody>\n",
       "    <tr>\n",
       "      <th>0</th>\n",
       "      <td>1</td>\n",
       "      <td>8</td>\n",
       "      <td>307.0</td>\n",
       "      <td>130</td>\n",
       "      <td>3504</td>\n",
       "      <td>12.0</td>\n",
       "      <td>1970</td>\n",
       "      <td>chevrolet chevelle malibu</td>\n",
       "      <td>7.652587</td>\n",
       "    </tr>\n",
       "    <tr>\n",
       "      <th>1</th>\n",
       "      <td>1</td>\n",
       "      <td>8</td>\n",
       "      <td>350.0</td>\n",
       "      <td>165</td>\n",
       "      <td>3693</td>\n",
       "      <td>11.5</td>\n",
       "      <td>1970</td>\n",
       "      <td>buick skylark 320</td>\n",
       "      <td>6.377156</td>\n",
       "    </tr>\n",
       "    <tr>\n",
       "      <th>2</th>\n",
       "      <td>1</td>\n",
       "      <td>8</td>\n",
       "      <td>318.0</td>\n",
       "      <td>150</td>\n",
       "      <td>3436</td>\n",
       "      <td>11.0</td>\n",
       "      <td>1970</td>\n",
       "      <td>plymouth satellite</td>\n",
       "      <td>7.652587</td>\n",
       "    </tr>\n",
       "    <tr>\n",
       "      <th>3</th>\n",
       "      <td>1</td>\n",
       "      <td>8</td>\n",
       "      <td>304.0</td>\n",
       "      <td>150</td>\n",
       "      <td>3433</td>\n",
       "      <td>12.0</td>\n",
       "      <td>1970</td>\n",
       "      <td>amc rebel sst</td>\n",
       "      <td>6.802299</td>\n",
       "    </tr>\n",
       "    <tr>\n",
       "      <th>4</th>\n",
       "      <td>1</td>\n",
       "      <td>8</td>\n",
       "      <td>302.0</td>\n",
       "      <td>140</td>\n",
       "      <td>3449</td>\n",
       "      <td>10.5</td>\n",
       "      <td>1970</td>\n",
       "      <td>ford torino</td>\n",
       "      <td>7.227443</td>\n",
       "    </tr>\n",
       "  </tbody>\n",
       "</table>\n",
       "</div>"
      ],
      "text/plain": [
       "   origin  cylinders  displacement horsepower  weight  acceleration  year  \\\n",
       "0       1          8         307.0        130    3504          12.0  1970   \n",
       "1       1          8         350.0        165    3693          11.5  1970   \n",
       "2       1          8         318.0        150    3436          11.0  1970   \n",
       "3       1          8         304.0        150    3433          12.0  1970   \n",
       "4       1          8         302.0        140    3449          10.5  1970   \n",
       "\n",
       "                        name  Kilometer_per_liter  \n",
       "0  chevrolet chevelle malibu             7.652587  \n",
       "1          buick skylark 320             6.377156  \n",
       "2         plymouth satellite             7.652587  \n",
       "3              amc rebel sst             6.802299  \n",
       "4                ford torino             7.227443  "
      ]
     },
     "execution_count": 8,
     "metadata": {},
     "output_type": "execute_result"
    }
   ],
   "source": [
    "data.head()"
   ]
  },
  {
   "cell_type": "code",
   "execution_count": 9,
   "id": "4d4fcbea-02e8-45b8-a3da-fa4c9f0d353d",
   "metadata": {},
   "outputs": [
    {
     "data": {
      "text/plain": [
       "origin                 0\n",
       "cylinders              0\n",
       "displacement           0\n",
       "horsepower             0\n",
       "weight                 0\n",
       "acceleration           0\n",
       "year                   0\n",
       "name                   0\n",
       "Kilometer_per_liter    0\n",
       "dtype: int64"
      ]
     },
     "execution_count": 9,
     "metadata": {},
     "output_type": "execute_result"
    }
   ],
   "source": [
    "raw_data.isnull().sum() #counting total no of the missing values"
   ]
  },
  {
   "cell_type": "code",
   "execution_count": 10,
   "id": "eb482d98-e3b3-4c90-963f-3947bff06b36",
   "metadata": {},
   "outputs": [
    {
     "data": {
      "text/plain": [
       "array(['130', '165', '150', '140', '198', '220', '215', '225', '190',\n",
       "       '170', '160', '95', '97', '85', '88', '46', '87', '90', '113',\n",
       "       '200', '210', '193', '?', '100', '105', '175', '153', '180', '110',\n",
       "       '72', '86', '70', '76', '65', '69', '60', '80', '54', '208', '155',\n",
       "       '112', '92', '145', '137', '158', '167', '94', '107', '230', '49',\n",
       "       '75', '91', '122', '67', '83', '78', '52', '61', '93', '148',\n",
       "       '129', '96', '71', '98', '115', '53', '81', '79', '120', '152',\n",
       "       '102', '108', '68', '58', '149', '89', '63', '48', '66', '139',\n",
       "       '103', '125', '133', '138', '135', '142', '77', '62', '132', '84',\n",
       "       '64', '74', '116', '82'], dtype=object)"
      ]
     },
     "execution_count": 10,
     "metadata": {},
     "output_type": "execute_result"
    }
   ],
   "source": [
    "#converting horse power data type to numbers data type\n",
    "data.horsepower.unique()"
   ]
  },
  {
   "cell_type": "code",
   "execution_count": 11,
   "id": "f13d0242-c38b-4a58-9d03-fafc390d11b7",
   "metadata": {},
   "outputs": [],
   "source": [
    "#droping or selecting the rows which have dont have have question mark in it .. we are indirectly droping the rows having the question mark\n",
    "data = data[data.horsepower != \"?\"]"
   ]
  },
  {
   "cell_type": "code",
   "execution_count": 12,
   "id": "ba7f3f75-3df8-46b9-932d-58eaa6f42d06",
   "metadata": {},
   "outputs": [
    {
     "data": {
      "text/plain": [
       "(392, 9)"
      ]
     },
     "execution_count": 12,
     "metadata": {},
     "output_type": "execute_result"
    }
   ],
   "source": [
    "data.shape"
   ]
  },
  {
   "cell_type": "code",
   "execution_count": 13,
   "id": "250c406e-b61e-4bbc-8d76-e2dc6b0cf9be",
   "metadata": {},
   "outputs": [],
   "source": [
    "#now changing the data type of the horsepower from object to float\n",
    "data.horsepower = data.horsepower.astype('float')"
   ]
  },
  {
   "cell_type": "code",
   "execution_count": 14,
   "id": "2fc7fddc-aa13-4909-a16b-6b557ad6070f",
   "metadata": {},
   "outputs": [
    {
     "name": "stdout",
     "output_type": "stream",
     "text": [
      "<class 'pandas.core.frame.DataFrame'>\n",
      "Int64Index: 392 entries, 0 to 397\n",
      "Data columns (total 9 columns):\n",
      " #   Column               Non-Null Count  Dtype  \n",
      "---  ------               --------------  -----  \n",
      " 0   origin               392 non-null    int64  \n",
      " 1   cylinders            392 non-null    int64  \n",
      " 2   displacement         392 non-null    float64\n",
      " 3   horsepower           392 non-null    float64\n",
      " 4   weight               392 non-null    int64  \n",
      " 5   acceleration         392 non-null    float64\n",
      " 6   year                 392 non-null    int64  \n",
      " 7   name                 392 non-null    object \n",
      " 8   Kilometer_per_liter  392 non-null    float64\n",
      "dtypes: float64(4), int64(4), object(1)\n",
      "memory usage: 30.6+ KB\n"
     ]
    }
   ],
   "source": [
    "data.info()"
   ]
  },
  {
   "cell_type": "code",
   "execution_count": 15,
   "id": "941754eb-64d7-4f59-b472-6cbf731e12d3",
   "metadata": {},
   "outputs": [],
   "source": [
    "#On to preparing the categorical features :\n",
    "\n",
    "   # model_year is ordinal. So we simply stick to dtype int.\n",
    "   # origin is a true categorical. We need to one hot encode it later.\n",
    "   # name actually contains two useful bits of information: the cars manufacturer and the model. We split that into two new columns.\n",
    "\n"
   ]
  },
  {
   "cell_type": "code",
   "execution_count": 16,
   "id": "0646ad17-73c2-41e2-bcb7-dc7de4b49f6d",
   "metadata": {},
   "outputs": [],
   "source": [
    "data_1 = data.copy(deep = True)"
   ]
  },
  {
   "cell_type": "code",
   "execution_count": 17,
   "id": "0512abf8-4efb-41f0-a8f4-57eb0a601220",
   "metadata": {},
   "outputs": [],
   "source": [
    "data_1.origin = data_1.origin.astype('object')"
   ]
  },
  {
   "cell_type": "code",
   "execution_count": 18,
   "id": "e6cf0ab9-eaad-4826-a6f1-a72939fee3aa",
   "metadata": {},
   "outputs": [
    {
     "data": {
      "text/html": [
       "<div>\n",
       "<style scoped>\n",
       "    .dataframe tbody tr th:only-of-type {\n",
       "        vertical-align: middle;\n",
       "    }\n",
       "\n",
       "    .dataframe tbody tr th {\n",
       "        vertical-align: top;\n",
       "    }\n",
       "\n",
       "    .dataframe thead th {\n",
       "        text-align: right;\n",
       "    }\n",
       "</style>\n",
       "<table border=\"1\" class=\"dataframe\">\n",
       "  <thead>\n",
       "    <tr style=\"text-align: right;\">\n",
       "      <th></th>\n",
       "      <th>0</th>\n",
       "    </tr>\n",
       "  </thead>\n",
       "  <tbody>\n",
       "    <tr>\n",
       "      <th>origin</th>\n",
       "      <td>1</td>\n",
       "    </tr>\n",
       "    <tr>\n",
       "      <th>cylinders</th>\n",
       "      <td>8</td>\n",
       "    </tr>\n",
       "    <tr>\n",
       "      <th>displacement</th>\n",
       "      <td>307.0</td>\n",
       "    </tr>\n",
       "    <tr>\n",
       "      <th>horsepower</th>\n",
       "      <td>130.0</td>\n",
       "    </tr>\n",
       "    <tr>\n",
       "      <th>weight</th>\n",
       "      <td>3504</td>\n",
       "    </tr>\n",
       "    <tr>\n",
       "      <th>acceleration</th>\n",
       "      <td>12.0</td>\n",
       "    </tr>\n",
       "    <tr>\n",
       "      <th>year</th>\n",
       "      <td>1970</td>\n",
       "    </tr>\n",
       "    <tr>\n",
       "      <th>Kilometer_per_liter</th>\n",
       "      <td>7.652587</td>\n",
       "    </tr>\n",
       "    <tr>\n",
       "      <th>manufacturer</th>\n",
       "      <td>chevrolet</td>\n",
       "    </tr>\n",
       "    <tr>\n",
       "      <th>model</th>\n",
       "      <td>chevelle malibu</td>\n",
       "    </tr>\n",
       "  </tbody>\n",
       "</table>\n",
       "</div>"
      ],
      "text/plain": [
       "                                   0\n",
       "origin                             1\n",
       "cylinders                          8\n",
       "displacement                   307.0\n",
       "horsepower                     130.0\n",
       "weight                          3504\n",
       "acceleration                    12.0\n",
       "year                            1970\n",
       "Kilometer_per_liter         7.652587\n",
       "manufacturer               chevrolet\n",
       "model                chevelle malibu"
      ]
     },
     "execution_count": 18,
     "metadata": {},
     "output_type": "execute_result"
    }
   ],
   "source": [
    "# split() with expand=True yields one column per list element\n",
    "# we only split on the first space by setting n=1\n",
    "data_1[[\"manufacturer\", \"model\"]] = data_1[\"name\"].str.split(\" \", n=1, expand=True)\n",
    "data_1.drop(\"name\", axis=1, inplace=True)\n",
    "data_1.head(1).T # to display in the list format\n"
   ]
  },
  {
   "cell_type": "code",
   "execution_count": 19,
   "id": "e118728f-d430-4d9f-948f-4da12c95e1bd",
   "metadata": {},
   "outputs": [
    {
     "data": {
      "text/html": [
       "<div>\n",
       "<style scoped>\n",
       "    .dataframe tbody tr th:only-of-type {\n",
       "        vertical-align: middle;\n",
       "    }\n",
       "\n",
       "    .dataframe tbody tr th {\n",
       "        vertical-align: top;\n",
       "    }\n",
       "\n",
       "    .dataframe thead th {\n",
       "        text-align: right;\n",
       "    }\n",
       "</style>\n",
       "<table border=\"1\" class=\"dataframe\">\n",
       "  <thead>\n",
       "    <tr style=\"text-align: right;\">\n",
       "      <th></th>\n",
       "      <th>origin</th>\n",
       "      <th>cylinders</th>\n",
       "      <th>displacement</th>\n",
       "      <th>horsepower</th>\n",
       "      <th>weight</th>\n",
       "      <th>acceleration</th>\n",
       "      <th>year</th>\n",
       "      <th>Kilometer_per_liter</th>\n",
       "      <th>manufacturer</th>\n",
       "      <th>model</th>\n",
       "    </tr>\n",
       "  </thead>\n",
       "  <tbody>\n",
       "    <tr>\n",
       "      <th>0</th>\n",
       "      <td>1</td>\n",
       "      <td>8</td>\n",
       "      <td>307.0</td>\n",
       "      <td>130.0</td>\n",
       "      <td>3504</td>\n",
       "      <td>12.0</td>\n",
       "      <td>1970</td>\n",
       "      <td>7.652587</td>\n",
       "      <td>chevrolet</td>\n",
       "      <td>chevelle malibu</td>\n",
       "    </tr>\n",
       "    <tr>\n",
       "      <th>1</th>\n",
       "      <td>1</td>\n",
       "      <td>8</td>\n",
       "      <td>350.0</td>\n",
       "      <td>165.0</td>\n",
       "      <td>3693</td>\n",
       "      <td>11.5</td>\n",
       "      <td>1970</td>\n",
       "      <td>6.377156</td>\n",
       "      <td>buick</td>\n",
       "      <td>skylark 320</td>\n",
       "    </tr>\n",
       "    <tr>\n",
       "      <th>2</th>\n",
       "      <td>1</td>\n",
       "      <td>8</td>\n",
       "      <td>318.0</td>\n",
       "      <td>150.0</td>\n",
       "      <td>3436</td>\n",
       "      <td>11.0</td>\n",
       "      <td>1970</td>\n",
       "      <td>7.652587</td>\n",
       "      <td>plymouth</td>\n",
       "      <td>satellite</td>\n",
       "    </tr>\n",
       "    <tr>\n",
       "      <th>3</th>\n",
       "      <td>1</td>\n",
       "      <td>8</td>\n",
       "      <td>304.0</td>\n",
       "      <td>150.0</td>\n",
       "      <td>3433</td>\n",
       "      <td>12.0</td>\n",
       "      <td>1970</td>\n",
       "      <td>6.802299</td>\n",
       "      <td>amc</td>\n",
       "      <td>rebel sst</td>\n",
       "    </tr>\n",
       "    <tr>\n",
       "      <th>4</th>\n",
       "      <td>1</td>\n",
       "      <td>8</td>\n",
       "      <td>302.0</td>\n",
       "      <td>140.0</td>\n",
       "      <td>3449</td>\n",
       "      <td>10.5</td>\n",
       "      <td>1970</td>\n",
       "      <td>7.227443</td>\n",
       "      <td>ford</td>\n",
       "      <td>torino</td>\n",
       "    </tr>\n",
       "  </tbody>\n",
       "</table>\n",
       "</div>"
      ],
      "text/plain": [
       "  origin  cylinders  displacement  horsepower  weight  acceleration  year  \\\n",
       "0      1          8         307.0       130.0    3504          12.0  1970   \n",
       "1      1          8         350.0       165.0    3693          11.5  1970   \n",
       "2      1          8         318.0       150.0    3436          11.0  1970   \n",
       "3      1          8         304.0       150.0    3433          12.0  1970   \n",
       "4      1          8         302.0       140.0    3449          10.5  1970   \n",
       "\n",
       "   Kilometer_per_liter manufacturer            model  \n",
       "0             7.652587    chevrolet  chevelle malibu  \n",
       "1             6.377156        buick      skylark 320  \n",
       "2             7.652587     plymouth        satellite  \n",
       "3             6.802299          amc        rebel sst  \n",
       "4             7.227443         ford           torino  "
      ]
     },
     "execution_count": 19,
     "metadata": {},
     "output_type": "execute_result"
    }
   ],
   "source": [
    "# we can display in the normal way tooo\n",
    "\n",
    "data_1.head()"
   ]
  },
  {
   "cell_type": "code",
   "execution_count": 20,
   "id": "3b291445-29a9-46db-8297-4872f0c495a5",
   "metadata": {},
   "outputs": [
    {
     "name": "stdout",
     "output_type": "stream",
     "text": [
      "['amc', 'audi', 'bmw', 'buick', 'cadillac', 'capri', 'chevroelt', 'chevrolet', 'chevy', 'chrysler', 'datsun', 'dodge', 'fiat', 'ford', 'hi', 'honda', 'maxda', 'mazda', 'mercedes', 'mercedes-benz', 'mercury', 'nissan', 'oldsmobile', 'opel', 'peugeot', 'plymouth', 'pontiac', 'renault', 'saab', 'subaru', 'toyota', 'toyouta', 'triumph', 'vokswagen', 'volkswagen', 'volvo', 'vw']\n"
     ]
    }
   ],
   "source": [
    "print(sorted(data_1.manufacturer.unique()))"
   ]
  },
  {
   "cell_type": "code",
   "execution_count": 21,
   "id": "28b92a2c-f923-4574-8891-35ddbfb7384d",
   "metadata": {},
   "outputs": [],
   "source": [
    "# There are several errors in the manufacturers names. E.g. «vokswagen», «maxda» etc. \n",
    "#We fix these by replacing the wrong entries. We also fix some synomyms like «vw».\n",
    "errors = {\n",
    "         \"vokswagen\" : \"volkswagen\", \n",
    "         \"vw\" : \"volkswagen\", \n",
    "         \"toyouta\" : \"toyota\", \n",
    "         \"mercedes-benz\" : \"mercedes\", \n",
    "         \"chevroelt\": \"chevrolet\",\n",
    "         \"chevy\" : \"chevrolet\", \n",
    "         \"maxda\" : \"mazda\"\n",
    "         }\n",
    "\n",
    "data_1.manufacturer = data_1.manufacturer.map(errors).fillna(data_1.manufacturer) #here we are maping the newly created the dictionary \n",
    "# here we are using fillna because all the values where the error are will be replaced by the respective value from the dictionary but where there is no error and the correct values are ther that will be changed to the nan and so we have to fill the nan with the same correct values and we copy the same values."
   ]
  },
  {
   "cell_type": "code",
   "execution_count": 22,
   "id": "988c1197-c571-4366-9cfb-d9035464d14f",
   "metadata": {},
   "outputs": [
    {
     "name": "stdout",
     "output_type": "stream",
     "text": [
      "['amc', 'audi', 'bmw', 'buick', 'cadillac', 'capri', 'chevrolet', 'chrysler', 'datsun', 'dodge', 'fiat', 'ford', 'hi', 'honda', 'mazda', 'mercedes', 'mercury', 'nissan', 'oldsmobile', 'opel', 'peugeot', 'plymouth', 'pontiac', 'renault', 'saab', 'subaru', 'toyota', 'triumph', 'volkswagen', 'volvo']\n"
     ]
    }
   ],
   "source": [
    "print(sorted(data_1.manufacturer.unique()))"
   ]
  },
  {
   "cell_type": "code",
   "execution_count": 23,
   "id": "90207b31-4bd3-42e4-bb1f-45992502882a",
   "metadata": {},
   "outputs": [
    {
     "data": {
      "text/plain": [
       "array(['chevelle malibu', 'skylark 320', 'satellite', 'rebel sst',\n",
       "       'torino', 'galaxie 500', 'impala', 'fury iii', 'catalina',\n",
       "       'ambassador dpl', 'challenger se', \"'cuda 340\", 'monte carlo',\n",
       "       'estate wagon (sw)', 'corona mark ii', 'duster', 'hornet',\n",
       "       'maverick', 'pl510', '1131 deluxe sedan', '504', '100 ls', '99e',\n",
       "       '2002', 'gremlin', 'f250', 'c20', 'd200', '1200d', 'vega 2300',\n",
       "       'corona', 'satellite custom', 'torino 500', 'matador',\n",
       "       'catalina brougham', 'monaco (sw)', 'country squire (sw)',\n",
       "       'safari (sw)', 'hornet sportabout (sw)', 'vega (sw)', 'firebird',\n",
       "       'mustang', 'capri 2000', '1900', '304', '124b', 'corolla 1200',\n",
       "       '1200', 'model 111', 'cricket', 'corona hardtop', 'colt hardtop',\n",
       "       'type 3', 'vega', 'pinto runabout', 'ambassador sst', 'marquis',\n",
       "       'lesabre custom', 'delta 88 royale', 'newport royal', 'rx2 coupe',\n",
       "       'matador (sw)', 'chevelle concours (sw)', 'gran torino (sw)',\n",
       "       'satellite custom (sw)', '145e (sw)', '411 (sw)', '504 (sw)',\n",
       "       '12 (sw)', 'pinto (sw)', '510 (sw)', 'corona mark ii (sw)',\n",
       "       'colt (sw)', 'corolla 1600 (sw)', 'century 350', 'malibu',\n",
       "       'gran torino', 'coronet custom', 'marquis brougham',\n",
       "       'caprice classic', 'ltd', 'fury gran sedan', 'new yorker brougham',\n",
       "       'electra 225 custom', 'ambassador brougham', 'valiant',\n",
       "       'nova custom', 'super beetle', 'country', 'custom suburb',\n",
       "       'vista cruiser', 'carina', '610', 'rx3', 'pinto', 'capri v6',\n",
       "       '124 sport coupe', 'monte carlo s', 'grand prix', '128', 'manta',\n",
       "       '100ls', '144ea', 'dart custom', '99le', 'mark ii', 'omega',\n",
       "       'nova', 'b210', 'chevelle malibu classic', 'satellite sebring',\n",
       "       'century luxus (sw)', 'coronet custom (sw)', 'fox', 'dasher',\n",
       "       '710', 'colt', '124 tc', 'civic', None, 'x1.9', 'valiant custom',\n",
       "       'monarch', 'bel air', 'grand fury', 'century', 'fury', 'skyhawk',\n",
       "       'monza 2+2', 'mustang ii', 'corolla', 'astro', 'rabbit', 'pacer',\n",
       "       '244dl', 'civic cvcc', '131', 'ii', '12tl', 'coronet brougham',\n",
       "       'chevette', 'woody', 'aspen se', 'granada ghia', 'ventura sj',\n",
       "       'pacer d/l', 'b-210', '245', 'volare premier v8', '280s',\n",
       "       'seville', 'c10', 'f108', 'd100', 'accord cvcc',\n",
       "       'opel isuzu deluxe', '5 gtl', 'arrow gs', 'f-10 hatchback',\n",
       "       'cutlass supreme', 'monaco brougham', 'cougar brougham',\n",
       "       'concours', 'skylark', 'volare custom', 'granada', 'grand prix lj',\n",
       "       'monte carlo landau', 'cordoba', 'thunderbird', 'rabbit custom',\n",
       "       'sunbird coupe', 'corolla liftback', 'mustang ii 2+2', 'colt m/m',\n",
       "       'dl', '810', '320i', 'rx-4', 'rabbit custom diesel', 'fiesta',\n",
       "       'glc deluxe', 'b210 gx', 'cutlass salon brougham', 'diplomat',\n",
       "       'monarch ghia', 'phoenix lj', 'fairmont (auto)', 'fairmont (man)',\n",
       "       'volare', 'concord', 'century special', 'zephyr', 'aspen',\n",
       "       'concord d/l', 'regal sport coupe (turbo)', 'futura', 'magnum xe',\n",
       "       '510', 'omni', 'celica gt liftback', 'sapporo', 'starfire sx',\n",
       "       '200-sx', '5000', '264gl', '99gle', '604sl', 'scirocco',\n",
       "       'accord lx', 'lemans v6', 'zephyr 6', 'fairmont 4', 'concord dl 6',\n",
       "       'aspen 6', 'ltd landau', 'grand marquis', 'st. regis',\n",
       "       'malibu classic (sw)', 'lebaron town @ country (sw)',\n",
       "       'colt hatchback custom', 'spirit dl', 'benz 300d', 'eldorado',\n",
       "       'horizon', 'horizon tc3', '210', 'strada custom',\n",
       "       'skylark limited', 'citation', 'omega brougham', 'phoenix',\n",
       "       'corolla tercel', '310', 'fairmont', '4000', 'corona liftback',\n",
       "       '626', '510 hatchback', 'glc', 'rabbit c (diesel)',\n",
       "       'dasher (diesel)', '5000s (diesel)', '240d', 'civic 1500 gl',\n",
       "       '280-zx', 'rx-7 gs', 'tr7 coupe', 'accord', 'reliant',\n",
       "       'aries wagon (sw)', 'starlet', 'champ', 'civic 1300', '210 mpg',\n",
       "       'tercel', 'glc 4', 'horizon 4', 'escort 4w', 'escort 2h', 'jetta',\n",
       "       'prelude', '200sx', '505s turbo diesel', 'diesel', 'cressida',\n",
       "       '810 maxima', 'cutlass ls', 'granada gl', 'lebaron salon',\n",
       "       'cavalier', 'cavalier wagon', 'cavalier 2-door',\n",
       "       'j2000 se hatchback', 'aries se', 'fairmont futura', 'rabbit l',\n",
       "       'glc custom l', 'glc custom', 'horizon miser', 'lynx l',\n",
       "       'stanza xe', 'civic (auto)', '310 gx', 'century limited',\n",
       "       'cutlass ciera (diesel)', 'lebaron medallion', 'granada l',\n",
       "       'celica gt', 'charger 2.2', 'camaro', 'mustang gl', 'pickup',\n",
       "       'rampage', 'ranger', 's-10'], dtype=object)"
      ]
     },
     "execution_count": 23,
     "metadata": {},
     "output_type": "execute_result"
    }
   ],
   "source": [
    "data_1.model.unique()"
   ]
  },
  {
   "cell_type": "code",
   "execution_count": 24,
   "id": "ef84647e-1914-4d85-9ff4-6f4b99b0f3bb",
   "metadata": {},
   "outputs": [],
   "source": [
    "#Some model names also seem redundant or wrong.\n",
    "\n",
    "#Hand checking would be way too time-consuming so we only improve this features brute-force by removing all special characters.\n"
   ]
  },
  {
   "cell_type": "code",
   "execution_count": 25,
   "id": "1432f465-af6c-4c53-a71b-0602f305531f",
   "metadata": {},
   "outputs": [],
   "source": [
    "import re\n",
    "def alphanumeric(x):\n",
    "    return re.sub('[^A-Za-z0-9]+', '', (str(x)))\n",
    "\n",
    "data_1[\"model\"] = data_1.model.apply(lambda x: alphanumeric(x))\n",
    "#here apply function is used to go through all the data of the column and remove the special character.\n",
    "#check for lambda funtion"
   ]
  },
  {
   "cell_type": "code",
   "execution_count": 26,
   "id": "00ab6192-56ad-42d8-a4f3-3121cd3a032c",
   "metadata": {},
   "outputs": [
    {
     "name": "stdout",
     "output_type": "stream",
     "text": [
      "293\n"
     ]
    }
   ],
   "source": [
    "print(len(data_1.model.unique()))"
   ]
  },
  {
   "cell_type": "code",
   "execution_count": 27,
   "id": "46b4429a-8b0c-4b5d-a458-e361a55d6d4f",
   "metadata": {},
   "outputs": [
    {
     "data": {
      "text/html": [
       "<div>\n",
       "<style scoped>\n",
       "    .dataframe tbody tr th:only-of-type {\n",
       "        vertical-align: middle;\n",
       "    }\n",
       "\n",
       "    .dataframe tbody tr th {\n",
       "        vertical-align: top;\n",
       "    }\n",
       "\n",
       "    .dataframe thead th {\n",
       "        text-align: right;\n",
       "    }\n",
       "</style>\n",
       "<table border=\"1\" class=\"dataframe\">\n",
       "  <thead>\n",
       "    <tr style=\"text-align: right;\">\n",
       "      <th></th>\n",
       "      <th>origin</th>\n",
       "      <th>cylinders</th>\n",
       "      <th>displacement</th>\n",
       "      <th>horsepower</th>\n",
       "      <th>weight</th>\n",
       "      <th>acceleration</th>\n",
       "      <th>year</th>\n",
       "      <th>Kilometer_per_liter</th>\n",
       "      <th>manufacturer</th>\n",
       "      <th>model</th>\n",
       "    </tr>\n",
       "  </thead>\n",
       "  <tbody>\n",
       "    <tr>\n",
       "      <th>0</th>\n",
       "      <td>1</td>\n",
       "      <td>8</td>\n",
       "      <td>307.0</td>\n",
       "      <td>130.0</td>\n",
       "      <td>3504</td>\n",
       "      <td>12.0</td>\n",
       "      <td>1970</td>\n",
       "      <td>7.652587</td>\n",
       "      <td>chevrolet</td>\n",
       "      <td>chevellemalibu</td>\n",
       "    </tr>\n",
       "    <tr>\n",
       "      <th>1</th>\n",
       "      <td>1</td>\n",
       "      <td>8</td>\n",
       "      <td>350.0</td>\n",
       "      <td>165.0</td>\n",
       "      <td>3693</td>\n",
       "      <td>11.5</td>\n",
       "      <td>1970</td>\n",
       "      <td>6.377156</td>\n",
       "      <td>buick</td>\n",
       "      <td>skylark320</td>\n",
       "    </tr>\n",
       "    <tr>\n",
       "      <th>2</th>\n",
       "      <td>1</td>\n",
       "      <td>8</td>\n",
       "      <td>318.0</td>\n",
       "      <td>150.0</td>\n",
       "      <td>3436</td>\n",
       "      <td>11.0</td>\n",
       "      <td>1970</td>\n",
       "      <td>7.652587</td>\n",
       "      <td>plymouth</td>\n",
       "      <td>satellite</td>\n",
       "    </tr>\n",
       "    <tr>\n",
       "      <th>3</th>\n",
       "      <td>1</td>\n",
       "      <td>8</td>\n",
       "      <td>304.0</td>\n",
       "      <td>150.0</td>\n",
       "      <td>3433</td>\n",
       "      <td>12.0</td>\n",
       "      <td>1970</td>\n",
       "      <td>6.802299</td>\n",
       "      <td>amc</td>\n",
       "      <td>rebelsst</td>\n",
       "    </tr>\n",
       "    <tr>\n",
       "      <th>4</th>\n",
       "      <td>1</td>\n",
       "      <td>8</td>\n",
       "      <td>302.0</td>\n",
       "      <td>140.0</td>\n",
       "      <td>3449</td>\n",
       "      <td>10.5</td>\n",
       "      <td>1970</td>\n",
       "      <td>7.227443</td>\n",
       "      <td>ford</td>\n",
       "      <td>torino</td>\n",
       "    </tr>\n",
       "  </tbody>\n",
       "</table>\n",
       "</div>"
      ],
      "text/plain": [
       "  origin  cylinders  displacement  horsepower  weight  acceleration  year  \\\n",
       "0      1          8         307.0       130.0    3504          12.0  1970   \n",
       "1      1          8         350.0       165.0    3693          11.5  1970   \n",
       "2      1          8         318.0       150.0    3436          11.0  1970   \n",
       "3      1          8         304.0       150.0    3433          12.0  1970   \n",
       "4      1          8         302.0       140.0    3449          10.5  1970   \n",
       "\n",
       "   Kilometer_per_liter manufacturer           model  \n",
       "0             7.652587    chevrolet  chevellemalibu  \n",
       "1             6.377156        buick      skylark320  \n",
       "2             7.652587     plymouth       satellite  \n",
       "3             6.802299          amc        rebelsst  \n",
       "4             7.227443         ford          torino  "
      ]
     },
     "execution_count": 27,
     "metadata": {},
     "output_type": "execute_result"
    }
   ],
   "source": [
    "data_1.head()"
   ]
  },
  {
   "cell_type": "code",
   "execution_count": 28,
   "id": "e517f9a4-35ba-463e-9e64-82c940d7e74b",
   "metadata": {},
   "outputs": [],
   "source": [
    "#Here we take a look at the summary of each attribute. This includes the count, mean, the min and max values as well as some percentiles for numeric variables."
   ]
  },
  {
   "cell_type": "code",
   "execution_count": 29,
   "id": "674c90ec-ad67-4809-bf94-5f8660099b8b",
   "metadata": {},
   "outputs": [],
   "source": [
    "# In our dataset we have numerical variables. Now we check for summary statistics of all the variables\n",
    "#For numerical variables, we use .describe(). For categorical variables we use describe(include='object'). "
   ]
  },
  {
   "cell_type": "code",
   "execution_count": 30,
   "id": "1f685960-6b61-4f7c-8a61-3680a647960c",
   "metadata": {},
   "outputs": [
    {
     "data": {
      "text/html": [
       "<div>\n",
       "<style scoped>\n",
       "    .dataframe tbody tr th:only-of-type {\n",
       "        vertical-align: middle;\n",
       "    }\n",
       "\n",
       "    .dataframe tbody tr th {\n",
       "        vertical-align: top;\n",
       "    }\n",
       "\n",
       "    .dataframe thead th {\n",
       "        text-align: right;\n",
       "    }\n",
       "</style>\n",
       "<table border=\"1\" class=\"dataframe\">\n",
       "  <thead>\n",
       "    <tr style=\"text-align: right;\">\n",
       "      <th></th>\n",
       "      <th>cylinders</th>\n",
       "      <th>displacement</th>\n",
       "      <th>horsepower</th>\n",
       "      <th>weight</th>\n",
       "      <th>acceleration</th>\n",
       "      <th>year</th>\n",
       "      <th>Kilometer_per_liter</th>\n",
       "    </tr>\n",
       "  </thead>\n",
       "  <tbody>\n",
       "    <tr>\n",
       "      <th>count</th>\n",
       "      <td>392.000000</td>\n",
       "      <td>392.000000</td>\n",
       "      <td>392.000000</td>\n",
       "      <td>392.000000</td>\n",
       "      <td>392.000000</td>\n",
       "      <td>392.000000</td>\n",
       "      <td>392.000000</td>\n",
       "    </tr>\n",
       "    <tr>\n",
       "      <th>mean</th>\n",
       "      <td>5.471939</td>\n",
       "      <td>194.411990</td>\n",
       "      <td>104.469388</td>\n",
       "      <td>2977.584184</td>\n",
       "      <td>15.541327</td>\n",
       "      <td>1975.979592</td>\n",
       "      <td>9.967885</td>\n",
       "    </tr>\n",
       "    <tr>\n",
       "      <th>std</th>\n",
       "      <td>1.705783</td>\n",
       "      <td>104.644004</td>\n",
       "      <td>38.491160</td>\n",
       "      <td>849.402560</td>\n",
       "      <td>2.758864</td>\n",
       "      <td>3.683737</td>\n",
       "      <td>3.318250</td>\n",
       "    </tr>\n",
       "    <tr>\n",
       "      <th>min</th>\n",
       "      <td>3.000000</td>\n",
       "      <td>68.000000</td>\n",
       "      <td>46.000000</td>\n",
       "      <td>1613.000000</td>\n",
       "      <td>8.000000</td>\n",
       "      <td>1970.000000</td>\n",
       "      <td>3.826293</td>\n",
       "    </tr>\n",
       "    <tr>\n",
       "      <th>25%</th>\n",
       "      <td>4.000000</td>\n",
       "      <td>105.000000</td>\n",
       "      <td>75.000000</td>\n",
       "      <td>2225.250000</td>\n",
       "      <td>13.775000</td>\n",
       "      <td>1973.000000</td>\n",
       "      <td>7.227443</td>\n",
       "    </tr>\n",
       "    <tr>\n",
       "      <th>50%</th>\n",
       "      <td>4.000000</td>\n",
       "      <td>151.000000</td>\n",
       "      <td>93.500000</td>\n",
       "      <td>2803.500000</td>\n",
       "      <td>15.500000</td>\n",
       "      <td>1976.000000</td>\n",
       "      <td>9.672019</td>\n",
       "    </tr>\n",
       "    <tr>\n",
       "      <th>75%</th>\n",
       "      <td>8.000000</td>\n",
       "      <td>275.750000</td>\n",
       "      <td>126.000000</td>\n",
       "      <td>3614.750000</td>\n",
       "      <td>17.025000</td>\n",
       "      <td>1979.000000</td>\n",
       "      <td>12.329168</td>\n",
       "    </tr>\n",
       "    <tr>\n",
       "      <th>max</th>\n",
       "      <td>8.000000</td>\n",
       "      <td>455.000000</td>\n",
       "      <td>230.000000</td>\n",
       "      <td>5140.000000</td>\n",
       "      <td>24.800000</td>\n",
       "      <td>1982.000000</td>\n",
       "      <td>19.811697</td>\n",
       "    </tr>\n",
       "  </tbody>\n",
       "</table>\n",
       "</div>"
      ],
      "text/plain": [
       "        cylinders  displacement  horsepower       weight  acceleration  \\\n",
       "count  392.000000    392.000000  392.000000   392.000000    392.000000   \n",
       "mean     5.471939    194.411990  104.469388  2977.584184     15.541327   \n",
       "std      1.705783    104.644004   38.491160   849.402560      2.758864   \n",
       "min      3.000000     68.000000   46.000000  1613.000000      8.000000   \n",
       "25%      4.000000    105.000000   75.000000  2225.250000     13.775000   \n",
       "50%      4.000000    151.000000   93.500000  2803.500000     15.500000   \n",
       "75%      8.000000    275.750000  126.000000  3614.750000     17.025000   \n",
       "max      8.000000    455.000000  230.000000  5140.000000     24.800000   \n",
       "\n",
       "              year  Kilometer_per_liter  \n",
       "count   392.000000           392.000000  \n",
       "mean   1975.979592             9.967885  \n",
       "std       3.683737             3.318250  \n",
       "min    1970.000000             3.826293  \n",
       "25%    1973.000000             7.227443  \n",
       "50%    1976.000000             9.672019  \n",
       "75%    1979.000000            12.329168  \n",
       "max    1982.000000            19.811697  "
      ]
     },
     "execution_count": 30,
     "metadata": {},
     "output_type": "execute_result"
    }
   ],
   "source": [
    "# data frame with numerical features\n",
    "data_1.describe()"
   ]
  },
  {
   "cell_type": "code",
   "execution_count": 31,
   "id": "aa249cbd-5ed4-4201-a25b-7dfa5c9bc437",
   "metadata": {},
   "outputs": [
    {
     "data": {
      "text/html": [
       "<div>\n",
       "<style scoped>\n",
       "    .dataframe tbody tr th:only-of-type {\n",
       "        vertical-align: middle;\n",
       "    }\n",
       "\n",
       "    .dataframe tbody tr th {\n",
       "        vertical-align: top;\n",
       "    }\n",
       "\n",
       "    .dataframe thead th {\n",
       "        text-align: right;\n",
       "    }\n",
       "</style>\n",
       "<table border=\"1\" class=\"dataframe\">\n",
       "  <thead>\n",
       "    <tr style=\"text-align: right;\">\n",
       "      <th></th>\n",
       "      <th>origin</th>\n",
       "      <th>manufacturer</th>\n",
       "      <th>model</th>\n",
       "    </tr>\n",
       "  </thead>\n",
       "  <tbody>\n",
       "    <tr>\n",
       "      <th>count</th>\n",
       "      <td>392</td>\n",
       "      <td>392</td>\n",
       "      <td>392</td>\n",
       "    </tr>\n",
       "    <tr>\n",
       "      <th>unique</th>\n",
       "      <td>3</td>\n",
       "      <td>30</td>\n",
       "      <td>293</td>\n",
       "    </tr>\n",
       "    <tr>\n",
       "      <th>top</th>\n",
       "      <td>1</td>\n",
       "      <td>ford</td>\n",
       "      <td>pinto</td>\n",
       "    </tr>\n",
       "    <tr>\n",
       "      <th>freq</th>\n",
       "      <td>245</td>\n",
       "      <td>48</td>\n",
       "      <td>5</td>\n",
       "    </tr>\n",
       "  </tbody>\n",
       "</table>\n",
       "</div>"
      ],
      "text/plain": [
       "        origin manufacturer  model\n",
       "count      392          392    392\n",
       "unique       3           30    293\n",
       "top          1         ford  pinto\n",
       "freq       245           48      5"
      ]
     },
     "execution_count": 31,
     "metadata": {},
     "output_type": "execute_result"
    }
   ],
   "source": [
    "# data frame with categorical features\n",
    "data_1.describe(include='object')"
   ]
  },
  {
   "cell_type": "code",
   "execution_count": 32,
   "id": "64f3cf6a-f182-4471-8c97-5d6a8f64e011",
   "metadata": {},
   "outputs": [],
   "source": [
    "# 4. EDA\n"
   ]
  },
  {
   "cell_type": "code",
   "execution_count": 33,
   "id": "d64822a9-c860-42d3-a88c-6ebe994bc159",
   "metadata": {},
   "outputs": [
    {
     "data": {
      "image/png": "[encoded data removed]",
      "text/plain": [
       "<Figure size 1296x1296 with 9 Axes>"
      ]
     },
     "metadata": {},
     "output_type": "display_data"
    }
   ],
   "source": [
    "fig = data_1.hist(figsize = (18,18))"
   ]
  },
  {
   "cell_type": "code",
   "execution_count": 34,
   "id": "64652080-49ec-4e65-a5f0-352b1a99863d",
   "metadata": {},
   "outputs": [],
   "source": [
    "# Univariate Analysis"
   ]
  },
  {
   "cell_type": "code",
   "execution_count": 35,
   "id": "7f405053-f608-4d3b-8538-6b41d944a59a",
   "metadata": {},
   "outputs": [
    {
     "data": {
      "text/plain": [
       "count    392.000000\n",
       "mean       9.967885\n",
       "std        3.318250\n",
       "min        3.826293\n",
       "25%        7.227443\n",
       "50%        9.672019\n",
       "75%       12.329168\n",
       "max       19.811697\n",
       "Name: Kilometer_per_liter, dtype: float64"
      ]
     },
     "execution_count": 35,
     "metadata": {},
     "output_type": "execute_result"
    }
   ],
   "source": [
    "data_1.Kilometer_per_liter.describe()"
   ]
  },
  {
   "cell_type": "code",
   "execution_count": 36,
   "id": "be6e2f07-e706-47f5-86db-ae7981d12885",
   "metadata": {},
   "outputs": [
    {
     "name": "stderr",
     "output_type": "stream",
     "text": [
      "C:\\Users\\ABC\\anaconda3\\lib\\site-packages\\seaborn\\distributions.py:2557: FutureWarning: `distplot` is a deprecated function and will be removed in a future version. Please adapt your code to use either `displot` (a figure-level function with similar flexibility) or `histplot` (an axes-level function for histograms).\n",
      "  warnings.warn(msg, FutureWarning)\n"
     ]
    },
    {
     "data": {
      "text/plain": [
       "<AxesSubplot:ylabel='Density'>"
      ]
     },
     "execution_count": 36,
     "metadata": {},
     "output_type": "execute_result"
    },
    {
     "data": {
      "image/png": "[encoded data removed]",
      "text/plain": [
       "<Figure size 432x288 with 1 Axes>"
      ]
     },
     "metadata": {},
     "output_type": "display_data"
    }
   ],
   "source": [
    "sns.distplot(x = data_1['Kilometer_per_liter'], bins = 10)"
   ]
  },
  {
   "cell_type": "code",
   "execution_count": 37,
   "id": "6b476bed-1fb4-4ba4-8e47-58fb9a6cc64c",
   "metadata": {},
   "outputs": [
    {
     "name": "stdout",
     "output_type": "stream",
     "text": [
      "We expect that our data points will be on red line for gaussian distributin. We see dist tails\n"
     ]
    },
    {
     "data": {
      "image/png": "[encoded data removed]",
      "text/plain": [
       "<Figure size 1440x504 with 1 Axes>"
      ]
     },
     "metadata": {},
     "output_type": "display_data"
    }
   ],
   "source": [
    "# qq plot:\n",
    "plt.figure(figsize = (20,7))\n",
    "stats.probplot(data[\"Kilometer_per_liter\"],plot=plt)\n",
    "plt.show\n",
    "print(\"We expect that our data points will be on red line for gaussian distributin. We see dist tails\")\n"
   ]
  },
  {
   "cell_type": "code",
   "execution_count": 38,
   "id": "c59af975-15c0-4bb4-84c2-2cf7c475a838",
   "metadata": {},
   "outputs": [
    {
     "name": "stdout",
     "output_type": "stream",
     "text": [
      "Skewness: 0.457092\n",
      "Kurtosis: -0.515993\n"
     ]
    }
   ],
   "source": [
    "print(\"Skewness: %f\" % data['Kilometer_per_liter'].skew())\n",
    "print(\"Kurtosis: %f\" % data['Kilometer_per_liter'].kurt()) # to chek sckewness and kurtosis"
   ]
  },
  {
   "cell_type": "code",
   "execution_count": 39,
   "id": "056060f0-8d5b-445b-aee0-708342342ad7",
   "metadata": {},
   "outputs": [
    {
     "data": {
      "text/plain": [
       "0.45709232306040987"
      ]
     },
     "execution_count": 39,
     "metadata": {},
     "output_type": "execute_result"
    }
   ],
   "source": [
    "data['Kilometer_per_liter'].skew()"
   ]
  },
  {
   "cell_type": "code",
   "execution_count": 41,
   "id": "ae090507-2bf6-4deb-bcd2-1fefc7cfa9a0",
   "metadata": {},
   "outputs": [],
   "source": [
    "# as we see that kilometer per liter is not normally distributed we will do log transformation"
   ]
  },
  {
   "cell_type": "code",
   "execution_count": 42,
   "id": "71f9f993-dce1-4e16-9cd6-bf88806455b1",
   "metadata": {},
   "outputs": [],
   "source": [
    "data_log = data_1.copy(deep = True)"
   ]
  },
  {
   "cell_type": "code",
   "execution_count": 43,
   "id": "e184c56d-8690-433e-a56a-41181ca3ddb3",
   "metadata": {},
   "outputs": [
    {
     "data": {
      "text/html": [
       "<div>\n",
       "<style scoped>\n",
       "    .dataframe tbody tr th:only-of-type {\n",
       "        vertical-align: middle;\n",
       "    }\n",
       "\n",
       "    .dataframe tbody tr th {\n",
       "        vertical-align: top;\n",
       "    }\n",
       "\n",
       "    .dataframe thead th {\n",
       "        text-align: right;\n",
       "    }\n",
       "</style>\n",
       "<table border=\"1\" class=\"dataframe\">\n",
       "  <thead>\n",
       "    <tr style=\"text-align: right;\">\n",
       "      <th></th>\n",
       "      <th>origin</th>\n",
       "      <th>cylinders</th>\n",
       "      <th>displacement</th>\n",
       "      <th>horsepower</th>\n",
       "      <th>weight</th>\n",
       "      <th>acceleration</th>\n",
       "      <th>year</th>\n",
       "      <th>Kilometer_per_liter</th>\n",
       "      <th>manufacturer</th>\n",
       "      <th>model</th>\n",
       "    </tr>\n",
       "  </thead>\n",
       "  <tbody>\n",
       "    <tr>\n",
       "      <th>0</th>\n",
       "      <td>1</td>\n",
       "      <td>8</td>\n",
       "      <td>307.0</td>\n",
       "      <td>130.0</td>\n",
       "      <td>3504</td>\n",
       "      <td>12.0</td>\n",
       "      <td>1970</td>\n",
       "      <td>7.652587</td>\n",
       "      <td>chevrolet</td>\n",
       "      <td>chevellemalibu</td>\n",
       "    </tr>\n",
       "    <tr>\n",
       "      <th>1</th>\n",
       "      <td>1</td>\n",
       "      <td>8</td>\n",
       "      <td>350.0</td>\n",
       "      <td>165.0</td>\n",
       "      <td>3693</td>\n",
       "      <td>11.5</td>\n",
       "      <td>1970</td>\n",
       "      <td>6.377156</td>\n",
       "      <td>buick</td>\n",
       "      <td>skylark320</td>\n",
       "    </tr>\n",
       "    <tr>\n",
       "      <th>2</th>\n",
       "      <td>1</td>\n",
       "      <td>8</td>\n",
       "      <td>318.0</td>\n",
       "      <td>150.0</td>\n",
       "      <td>3436</td>\n",
       "      <td>11.0</td>\n",
       "      <td>1970</td>\n",
       "      <td>7.652587</td>\n",
       "      <td>plymouth</td>\n",
       "      <td>satellite</td>\n",
       "    </tr>\n",
       "    <tr>\n",
       "      <th>3</th>\n",
       "      <td>1</td>\n",
       "      <td>8</td>\n",
       "      <td>304.0</td>\n",
       "      <td>150.0</td>\n",
       "      <td>3433</td>\n",
       "      <td>12.0</td>\n",
       "      <td>1970</td>\n",
       "      <td>6.802299</td>\n",
       "      <td>amc</td>\n",
       "      <td>rebelsst</td>\n",
       "    </tr>\n",
       "    <tr>\n",
       "      <th>4</th>\n",
       "      <td>1</td>\n",
       "      <td>8</td>\n",
       "      <td>302.0</td>\n",
       "      <td>140.0</td>\n",
       "      <td>3449</td>\n",
       "      <td>10.5</td>\n",
       "      <td>1970</td>\n",
       "      <td>7.227443</td>\n",
       "      <td>ford</td>\n",
       "      <td>torino</td>\n",
       "    </tr>\n",
       "  </tbody>\n",
       "</table>\n",
       "</div>"
      ],
      "text/plain": [
       "  origin  cylinders  displacement  horsepower  weight  acceleration  year  \\\n",
       "0      1          8         307.0       130.0    3504          12.0  1970   \n",
       "1      1          8         350.0       165.0    3693          11.5  1970   \n",
       "2      1          8         318.0       150.0    3436          11.0  1970   \n",
       "3      1          8         304.0       150.0    3433          12.0  1970   \n",
       "4      1          8         302.0       140.0    3449          10.5  1970   \n",
       "\n",
       "   Kilometer_per_liter manufacturer           model  \n",
       "0             7.652587    chevrolet  chevellemalibu  \n",
       "1             6.377156        buick      skylark320  \n",
       "2             7.652587     plymouth       satellite  \n",
       "3             6.802299          amc        rebelsst  \n",
       "4             7.227443         ford          torino  "
      ]
     },
     "execution_count": 43,
     "metadata": {},
     "output_type": "execute_result"
    }
   ],
   "source": [
    "data_log.head()"
   ]
  },
  {
   "cell_type": "code",
   "execution_count": 44,
   "id": "d58347d5-278d-497a-9f1b-fac54104f38e",
   "metadata": {},
   "outputs": [],
   "source": [
    "data_log['Kmperliter_log'] = np.log(data_log['Kilometer_per_liter'])"
   ]
  },
  {
   "cell_type": "code",
   "execution_count": 45,
   "id": "8db555ab-a17c-415b-aa3d-b9a161244806",
   "metadata": {},
   "outputs": [
    {
     "data": {
      "text/html": [
       "<div>\n",
       "<style scoped>\n",
       "    .dataframe tbody tr th:only-of-type {\n",
       "        vertical-align: middle;\n",
       "    }\n",
       "\n",
       "    .dataframe tbody tr th {\n",
       "        vertical-align: top;\n",
       "    }\n",
       "\n",
       "    .dataframe thead th {\n",
       "        text-align: right;\n",
       "    }\n",
       "</style>\n",
       "<table border=\"1\" class=\"dataframe\">\n",
       "  <thead>\n",
       "    <tr style=\"text-align: right;\">\n",
       "      <th></th>\n",
       "      <th>origin</th>\n",
       "      <th>cylinders</th>\n",
       "      <th>displacement</th>\n",
       "      <th>horsepower</th>\n",
       "      <th>weight</th>\n",
       "      <th>acceleration</th>\n",
       "      <th>year</th>\n",
       "      <th>Kilometer_per_liter</th>\n",
       "      <th>manufacturer</th>\n",
       "      <th>model</th>\n",
       "      <th>Kmperliter_log</th>\n",
       "    </tr>\n",
       "  </thead>\n",
       "  <tbody>\n",
       "    <tr>\n",
       "      <th>0</th>\n",
       "      <td>1</td>\n",
       "      <td>8</td>\n",
       "      <td>307.0</td>\n",
       "      <td>130.0</td>\n",
       "      <td>3504</td>\n",
       "      <td>12.0</td>\n",
       "      <td>1970</td>\n",
       "      <td>7.652587</td>\n",
       "      <td>chevrolet</td>\n",
       "      <td>chevellemalibu</td>\n",
       "      <td>2.035044</td>\n",
       "    </tr>\n",
       "    <tr>\n",
       "      <th>1</th>\n",
       "      <td>1</td>\n",
       "      <td>8</td>\n",
       "      <td>350.0</td>\n",
       "      <td>165.0</td>\n",
       "      <td>3693</td>\n",
       "      <td>11.5</td>\n",
       "      <td>1970</td>\n",
       "      <td>6.377156</td>\n",
       "      <td>buick</td>\n",
       "      <td>skylark320</td>\n",
       "      <td>1.852722</td>\n",
       "    </tr>\n",
       "    <tr>\n",
       "      <th>2</th>\n",
       "      <td>1</td>\n",
       "      <td>8</td>\n",
       "      <td>318.0</td>\n",
       "      <td>150.0</td>\n",
       "      <td>3436</td>\n",
       "      <td>11.0</td>\n",
       "      <td>1970</td>\n",
       "      <td>7.652587</td>\n",
       "      <td>plymouth</td>\n",
       "      <td>satellite</td>\n",
       "      <td>2.035044</td>\n",
       "    </tr>\n",
       "    <tr>\n",
       "      <th>3</th>\n",
       "      <td>1</td>\n",
       "      <td>8</td>\n",
       "      <td>304.0</td>\n",
       "      <td>150.0</td>\n",
       "      <td>3433</td>\n",
       "      <td>12.0</td>\n",
       "      <td>1970</td>\n",
       "      <td>6.802299</td>\n",
       "      <td>amc</td>\n",
       "      <td>rebelsst</td>\n",
       "      <td>1.917261</td>\n",
       "    </tr>\n",
       "    <tr>\n",
       "      <th>4</th>\n",
       "      <td>1</td>\n",
       "      <td>8</td>\n",
       "      <td>302.0</td>\n",
       "      <td>140.0</td>\n",
       "      <td>3449</td>\n",
       "      <td>10.5</td>\n",
       "      <td>1970</td>\n",
       "      <td>7.227443</td>\n",
       "      <td>ford</td>\n",
       "      <td>torino</td>\n",
       "      <td>1.977885</td>\n",
       "    </tr>\n",
       "  </tbody>\n",
       "</table>\n",
       "</div>"
      ],
      "text/plain": [
       "  origin  cylinders  displacement  horsepower  weight  acceleration  year  \\\n",
       "0      1          8         307.0       130.0    3504          12.0  1970   \n",
       "1      1          8         350.0       165.0    3693          11.5  1970   \n",
       "2      1          8         318.0       150.0    3436          11.0  1970   \n",
       "3      1          8         304.0       150.0    3433          12.0  1970   \n",
       "4      1          8         302.0       140.0    3449          10.5  1970   \n",
       "\n",
       "   Kilometer_per_liter manufacturer           model  Kmperliter_log  \n",
       "0             7.652587    chevrolet  chevellemalibu        2.035044  \n",
       "1             6.377156        buick      skylark320        1.852722  \n",
       "2             7.652587     plymouth       satellite        2.035044  \n",
       "3             6.802299          amc        rebelsst        1.917261  \n",
       "4             7.227443         ford          torino        1.977885  "
      ]
     },
     "execution_count": 45,
     "metadata": {},
     "output_type": "execute_result"
    }
   ],
   "source": [
    "data_log.head()"
   ]
  },
  {
   "cell_type": "code",
   "execution_count": 46,
   "id": "0c709500-cdb3-427a-af1c-0ea6fe831ff7",
   "metadata": {},
   "outputs": [
    {
     "name": "stderr",
     "output_type": "stream",
     "text": [
      "C:\\Users\\ABC\\anaconda3\\lib\\site-packages\\seaborn\\distributions.py:2557: FutureWarning: `distplot` is a deprecated function and will be removed in a future version. Please adapt your code to use either `displot` (a figure-level function with similar flexibility) or `histplot` (an axes-level function for histograms).\n",
      "  warnings.warn(msg, FutureWarning)\n"
     ]
    },
    {
     "data": {
      "text/plain": [
       "<AxesSubplot:xlabel='Kmperliter_log', ylabel='Density'>"
      ]
     },
     "execution_count": 46,
     "metadata": {},
     "output_type": "execute_result"
    },
    {
     "data": {
      "image/png": "[encoded data removed]",
      "text/plain": [
       "<Figure size 432x288 with 1 Axes>"
      ]
     },
     "metadata": {},
     "output_type": "display_data"
    }
   ],
   "source": [
    "sns.distplot(data_log.Kmperliter_log)"
   ]
  },
  {
   "cell_type": "code",
   "execution_count": 53,
   "id": "f4caa50a-af7c-41b6-a9a3-4992a7246afa",
   "metadata": {},
   "outputs": [
    {
     "name": "stdout",
     "output_type": "stream",
     "text": [
      "We expect that our data points will be on red line for gaussian distributin. We see dist tails\n"
     ]
    },
    {
     "data": {
      "image/png": "[encoded data removed]",
      "text/plain": [
       "<Figure size 1440x504 with 1 Axes>"
      ]
     },
     "metadata": {},
     "output_type": "display_data"
    }
   ],
   "source": [
    "# qq plot using scipy\n",
    "plt.figure(figsize = (20,7))\n",
    "stats.probplot(data_log.Kmperliter_log,plot=plt)\n",
    "plt.show\n",
    "print(\"We expect that our data points will be on red line for gaussian distributin. We see dist tails\")\n"
   ]
  },
  {
   "cell_type": "code",
   "execution_count": 54,
   "id": "b1caa2be-f7b6-4c77-89e4-55813c6deee6",
   "metadata": {},
   "outputs": [
    {
     "data": {
      "text/plain": [
       "count    392.000000\n",
       "mean     194.411990\n",
       "std      104.644004\n",
       "min       68.000000\n",
       "25%      105.000000\n",
       "50%      151.000000\n",
       "75%      275.750000\n",
       "max      455.000000\n",
       "Name: displacement, dtype: float64"
      ]
     },
     "execution_count": 54,
     "metadata": {},
     "output_type": "execute_result"
    }
   ],
   "source": [
    "# decribeing the displacment \n",
    "data_log.displacement.describe()"
   ]
  },
  {
   "cell_type": "code",
   "execution_count": 55,
   "id": "395fa798-e628-4f4d-8ffb-c65a631903ff",
   "metadata": {},
   "outputs": [
    {
     "name": "stderr",
     "output_type": "stream",
     "text": [
      "C:\\Users\\ABC\\anaconda3\\lib\\site-packages\\seaborn\\distributions.py:2557: FutureWarning: `distplot` is a deprecated function and will be removed in a future version. Please adapt your code to use either `displot` (a figure-level function with similar flexibility) or `histplot` (an axes-level function for histograms).\n",
      "  warnings.warn(msg, FutureWarning)\n"
     ]
    },
    {
     "data": {
      "text/plain": [
       "<AxesSubplot:xlabel='displacement', ylabel='Density'>"
      ]
     },
     "execution_count": 55,
     "metadata": {},
     "output_type": "execute_result"
    },
    {
     "data": {
      "image/png": "[encoded data removed]",
      "text/plain": [
       "<Figure size 432x288 with 1 Axes>"
      ]
     },
     "metadata": {},
     "output_type": "display_data"
    }
   ],
   "source": [
    "sns.distplot(data_log.displacement)"
   ]
  },
  {
   "cell_type": "code",
   "execution_count": 56,
   "id": "f8f3f475-c513-4280-bd49-e5aef2c36934",
   "metadata": {},
   "outputs": [],
   "source": [
    "#Analysis of cylinders"
   ]
  },
  {
   "cell_type": "code",
   "execution_count": 57,
   "id": "313e710e-7e93-47ef-b132-72be790f2bff",
   "metadata": {},
   "outputs": [
    {
     "data": {
      "text/plain": [
       "count    392.000000\n",
       "mean       5.471939\n",
       "std        1.705783\n",
       "min        3.000000\n",
       "25%        4.000000\n",
       "50%        4.000000\n",
       "75%        8.000000\n",
       "max        8.000000\n",
       "Name: cylinders, dtype: float64"
      ]
     },
     "execution_count": 57,
     "metadata": {},
     "output_type": "execute_result"
    }
   ],
   "source": [
    "data_log.cylinders.describe()"
   ]
  },
  {
   "cell_type": "code",
   "execution_count": 58,
   "id": "c09a6ac6-90ba-41a5-aa2b-21015afc13eb",
   "metadata": {},
   "outputs": [
    {
     "data": {
      "text/plain": [
       "array([8, 4, 6, 3, 5], dtype=int64)"
      ]
     },
     "execution_count": 58,
     "metadata": {},
     "output_type": "execute_result"
    }
   ],
   "source": [
    "data_log.cylinders.unique()"
   ]
  },
  {
   "cell_type": "code",
   "execution_count": 59,
   "id": "6866217c-8b11-4a1b-9de8-da63c4c79231",
   "metadata": {},
   "outputs": [],
   "source": [
    "# lets plot count plot "
   ]
  },
  {
   "cell_type": "code",
   "execution_count": 62,
   "id": "8726a039-7d96-41d1-9290-19bc110efa8b",
   "metadata": {},
   "outputs": [
    {
     "name": "stderr",
     "output_type": "stream",
     "text": [
      "C:\\Users\\ABC\\anaconda3\\lib\\site-packages\\seaborn\\_decorators.py:36: FutureWarning: Pass the following variable as a keyword arg: x. From version 0.12, the only valid positional argument will be `data`, and passing other arguments without an explicit keyword will result in an error or misinterpretation.\n",
      "  warnings.warn(\n"
     ]
    },
    {
     "data": {
      "text/plain": [
       "<AxesSubplot:xlabel='cylinders', ylabel='count'>"
      ]
     },
     "execution_count": 62,
     "metadata": {},
     "output_type": "execute_result"
    },
    {
     "data": {
      "image/png": "[encoded data removed]",
      "text/plain": [
       "<Figure size 432x288 with 1 Axes>"
      ]
     },
     "metadata": {},
     "output_type": "display_data"
    }
   ],
   "source": [
    "sns.countplot(data_log.cylinders)"
   ]
  },
  {
   "cell_type": "code",
   "execution_count": 63,
   "id": "93f38061-a057-4241-95f0-d76d50ec15b6",
   "metadata": {},
   "outputs": [],
   "source": [
    "#From above Countplot\n",
    "\n",
    "    #From the above above plot we can visualize that there are maximum number of 4 cylinder vehicles.\n",
    "    #Around 98% of the vehicles are either of 4, 6, 8 cylinders and only small percent of vehicles are either of 3 and 5 cylinders.\n",
    "    #Cylinders is categorical, but in our dataset it is numerical.So changing type\n",
    "\n"
   ]
  },
  {
   "cell_type": "code",
   "execution_count": 64,
   "id": "9f457752-5881-4809-8239-fe675256f8bc",
   "metadata": {},
   "outputs": [],
   "source": [
    "data_3 = data_log.copy(deep = True)"
   ]
  },
  {
   "cell_type": "code",
   "execution_count": 65,
   "id": "c98fcebb-c492-4a24-bf1b-017f3a6fc453",
   "metadata": {},
   "outputs": [],
   "source": [
    "data_3.cylinders = data_3.cylinders.astype('object')"
   ]
  },
  {
   "cell_type": "code",
   "execution_count": 66,
   "id": "7d112b1c-783d-406d-8f1e-43d6b809301d",
   "metadata": {},
   "outputs": [
    {
     "name": "stdout",
     "output_type": "stream",
     "text": [
      "<class 'pandas.core.frame.DataFrame'>\n",
      "Int64Index: 392 entries, 0 to 397\n",
      "Data columns (total 11 columns):\n",
      " #   Column               Non-Null Count  Dtype  \n",
      "---  ------               --------------  -----  \n",
      " 0   origin               392 non-null    object \n",
      " 1   cylinders            392 non-null    object \n",
      " 2   displacement         392 non-null    float64\n",
      " 3   horsepower           392 non-null    float64\n",
      " 4   weight               392 non-null    int64  \n",
      " 5   acceleration         392 non-null    float64\n",
      " 6   year                 392 non-null    int64  \n",
      " 7   Kilometer_per_liter  392 non-null    float64\n",
      " 8   manufacturer         392 non-null    object \n",
      " 9   model                392 non-null    object \n",
      " 10  Kmperliter_log       392 non-null    float64\n",
      "dtypes: float64(5), int64(2), object(4)\n",
      "memory usage: 44.9+ KB\n"
     ]
    }
   ],
   "source": [
    "data_3.info()"
   ]
  },
  {
   "cell_type": "code",
   "execution_count": 67,
   "id": "a5acf258-72cf-49b9-a34a-8820dc07f018",
   "metadata": {},
   "outputs": [],
   "source": [
    "# 4. Analysis of model year"
   ]
  },
  {
   "cell_type": "code",
   "execution_count": 68,
   "id": "97de86c2-3658-4243-8b7e-9e95705000bc",
   "metadata": {},
   "outputs": [
    {
     "name": "stderr",
     "output_type": "stream",
     "text": [
      "C:\\Users\\ABC\\anaconda3\\lib\\site-packages\\seaborn\\_decorators.py:36: FutureWarning: Pass the following variable as a keyword arg: x. From version 0.12, the only valid positional argument will be `data`, and passing other arguments without an explicit keyword will result in an error or misinterpretation.\n",
      "  warnings.warn(\n"
     ]
    },
    {
     "data": {
      "image/png": "[encoded data removed]",
      "text/plain": [
       "<Figure size 432x288 with 1 Axes>"
      ]
     },
     "metadata": {},
     "output_type": "display_data"
    }
   ],
   "source": [
    "sns.countplot(data_3['year'],palette = \"rainbow\")\n",
    "plt.show()"
   ]
  },
  {
   "cell_type": "code",
   "execution_count": 69,
   "id": "7cd97257-1a1f-40ca-bc26-388e4250ee1a",
   "metadata": {},
   "outputs": [],
   "source": [
    "# 5. Analysis of Origin"
   ]
  },
  {
   "cell_type": "code",
   "execution_count": 70,
   "id": "a7fdf8ce-aaef-4e06-9ac5-f9007a5acdc3",
   "metadata": {},
   "outputs": [
    {
     "name": "stderr",
     "output_type": "stream",
     "text": [
      "C:\\Users\\ABC\\anaconda3\\lib\\site-packages\\seaborn\\_decorators.py:36: FutureWarning: Pass the following variable as a keyword arg: x. From version 0.12, the only valid positional argument will be `data`, and passing other arguments without an explicit keyword will result in an error or misinterpretation.\n",
      "  warnings.warn(\n"
     ]
    },
    {
     "data": {
      "image/png": "[encoded data removed]",
      "text/plain": [
       "<Figure size 432x288 with 1 Axes>"
      ]
     },
     "metadata": {},
     "output_type": "display_data"
    }
   ],
   "source": [
    "sns.countplot(data_3.origin,palette = \"rainbow\")\n",
    "plt.show()"
   ]
  },
  {
   "cell_type": "code",
   "execution_count": 71,
   "id": "9cf29f9f-f14a-4eed-803b-3f3c2d9a6d99",
   "metadata": {},
   "outputs": [],
   "source": [
    "# Most of the vehicles are from region 1 as compared to the other two regions.\n"
   ]
  },
  {
   "cell_type": "code",
   "execution_count": 72,
   "id": "9f93cafe-93d8-4faa-9d46-7b85bca1d96f",
   "metadata": {},
   "outputs": [],
   "source": [
    "# 6. Analysis of Horsepower\n"
   ]
  },
  {
   "cell_type": "code",
   "execution_count": 75,
   "id": "49dec6cd-716b-44a8-b75c-11c22a6eee86",
   "metadata": {},
   "outputs": [
    {
     "name": "stderr",
     "output_type": "stream",
     "text": [
      "C:\\Users\\ABC\\anaconda3\\lib\\site-packages\\seaborn\\distributions.py:2557: FutureWarning: `distplot` is a deprecated function and will be removed in a future version. Please adapt your code to use either `displot` (a figure-level function with similar flexibility) or `histplot` (an axes-level function for histograms).\n",
      "  warnings.warn(msg, FutureWarning)\n"
     ]
    },
    {
     "data": {
      "text/plain": [
       "<AxesSubplot:xlabel='horsepower', ylabel='Density'>"
      ]
     },
     "execution_count": 75,
     "metadata": {},
     "output_type": "execute_result"
    },
    {
     "data": {
      "image/png": "[encoded data removed]",
      "text/plain": [
       "<Figure size 432x288 with 1 Axes>"
      ]
     },
     "metadata": {},
     "output_type": "display_data"
    }
   ],
   "source": [
    "sns.distplot(data_3.horsepower)"
   ]
  },
  {
   "cell_type": "code",
   "execution_count": 99,
   "id": "ea356a3b-e910-4f9b-b123-dd7da4995302",
   "metadata": {},
   "outputs": [],
   "source": [
    "#From above distribution\n",
    "\n",
    "    #Horsepower rates the engine performance of cars\n",
    "   # We can visualize that most of the vehicles have around 75-110 horsepower\n",
    "   # And only few vehicles have horsepoer above 200.\n",
    "\n"
   ]
  },
  {
   "cell_type": "code",
   "execution_count": 137,
   "id": "90170157-e4f1-44c5-b1ce-840cb2a72640",
   "metadata": {},
   "outputs": [
    {
     "name": "stderr",
     "output_type": "stream",
     "text": [
      "C:\\Users\\ABC\\anaconda3\\lib\\site-packages\\seaborn\\_decorators.py:36: FutureWarning: Pass the following variable as a keyword arg: x. From version 0.12, the only valid positional argument will be `data`, and passing other arguments without an explicit keyword will result in an error or misinterpretation.\n",
      "  warnings.warn(\n"
     ]
    },
    {
     "data": {
      "text/plain": [
       "<AxesSubplot:xlabel='manufacturer', ylabel='count'>"
      ]
     },
     "execution_count": 137,
     "metadata": {},
     "output_type": "execute_result"
    },
    {
     "data": {
      "image/png": "[encoded data removed]",
      "text/plain": [
       "<Figure size 1152x360 with 1 Axes>"
      ]
     },
     "metadata": {},
     "output_type": "display_data"
    }
   ],
   "source": [
    "# 7. Analysis of Manufacturer\n",
    "plt.figure(figsize=(16,5))\n",
    "\n",
    "sns.countplot(data_3.manufacturer,order = data_3['manufacturer'].value_counts().index)"
   ]
  },
  {
   "cell_type": "code",
   "execution_count": 145,
   "id": "66428d88-66cf-4e67-bad9-a7118deb9b7f",
   "metadata": {},
   "outputs": [
    {
     "name": "stdout",
     "output_type": "stream",
     "text": [
      "293 car models (Top 10)\n",
      "--------  -\n",
      "pinto     5\n",
      "corolla   5\n",
      "rabbit    5\n",
      "matador   5\n",
      "504       4\n",
      "maverick  4\n",
      "gremlin   4\n",
      "hornet    4\n",
      "corona    4\n",
      "chevette  4\n",
      "--------  -\n"
     ]
    },
    {
     "data": {
      "image/png": "[encoded data removed]",
      "text/plain": [
       "<Figure size 1152x360 with 1 Axes>"
      ]
     },
     "metadata": {},
     "output_type": "display_data"
    }
   ],
   "source": [
    "#8. Analysis of Model\n",
    "\n",
    "from tabulate import tabulate\n",
    "print(f\"{data_3.model.nunique()} car models (Top 10)\") # F string is used to  evaluates at runtime of the program, f-string allows us to evaluate expressions inside the string.\n",
    "print(tabulate(pd.DataFrame(data_3.model.value_counts()[:10]))) #Pretty-print tabular data in Python, a library and a command-line utility.\n",
    "\n",
    "plt.figure(figsize=(16,5));\n",
    "data_3.groupby(\"model\")[\"model\"].count().sort_values(ascending=False)[:20].plot(kind=\"bar\")\n",
    "plt.title(\"Car models (Top 20 plotted)\")\n",
    "plt.ylabel(\"Count\")\n",
    "plt.xlabel(\"Car models\")\n",
    "plt.xticks(rotation=45)\n",
    "plt.tight_layout()\n",
    "plt.show()"
   ]
  },
  {
   "cell_type": "code",
   "execution_count": 146,
   "id": "6897bc43-c3a9-416b-b628-db9b5b1bb3fa",
   "metadata": {},
   "outputs": [],
   "source": [
    "# 4.2 Multivariate Analysis"
   ]
  },
  {
   "cell_type": "code",
   "execution_count": 150,
   "id": "adb54881-a075-457f-a3fe-07637b0bc2e4",
   "metadata": {},
   "outputs": [
    {
     "data": {
      "text/html": [
       "<div>\n",
       "<style scoped>\n",
       "    .dataframe tbody tr th:only-of-type {\n",
       "        vertical-align: middle;\n",
       "    }\n",
       "\n",
       "    .dataframe tbody tr th {\n",
       "        vertical-align: top;\n",
       "    }\n",
       "\n",
       "    .dataframe thead th {\n",
       "        text-align: right;\n",
       "    }\n",
       "</style>\n",
       "<table border=\"1\" class=\"dataframe\">\n",
       "  <thead>\n",
       "    <tr style=\"text-align: right;\">\n",
       "      <th></th>\n",
       "      <th>origin</th>\n",
       "      <th>cylinders</th>\n",
       "      <th>displacement</th>\n",
       "      <th>horsepower</th>\n",
       "      <th>weight</th>\n",
       "      <th>acceleration</th>\n",
       "      <th>year</th>\n",
       "      <th>Kilometer_per_liter</th>\n",
       "      <th>manufacturer</th>\n",
       "      <th>model</th>\n",
       "      <th>Kmperliter_log</th>\n",
       "    </tr>\n",
       "  </thead>\n",
       "  <tbody>\n",
       "    <tr>\n",
       "      <th>0</th>\n",
       "      <td>1</td>\n",
       "      <td>8</td>\n",
       "      <td>307.0</td>\n",
       "      <td>130.0</td>\n",
       "      <td>3504</td>\n",
       "      <td>12.0</td>\n",
       "      <td>1970</td>\n",
       "      <td>7.652587</td>\n",
       "      <td>chevrolet</td>\n",
       "      <td>chevellemalibu</td>\n",
       "      <td>2.035044</td>\n",
       "    </tr>\n",
       "    <tr>\n",
       "      <th>1</th>\n",
       "      <td>1</td>\n",
       "      <td>8</td>\n",
       "      <td>350.0</td>\n",
       "      <td>165.0</td>\n",
       "      <td>3693</td>\n",
       "      <td>11.5</td>\n",
       "      <td>1970</td>\n",
       "      <td>6.377156</td>\n",
       "      <td>buick</td>\n",
       "      <td>skylark320</td>\n",
       "      <td>1.852722</td>\n",
       "    </tr>\n",
       "    <tr>\n",
       "      <th>2</th>\n",
       "      <td>1</td>\n",
       "      <td>8</td>\n",
       "      <td>318.0</td>\n",
       "      <td>150.0</td>\n",
       "      <td>3436</td>\n",
       "      <td>11.0</td>\n",
       "      <td>1970</td>\n",
       "      <td>7.652587</td>\n",
       "      <td>plymouth</td>\n",
       "      <td>satellite</td>\n",
       "      <td>2.035044</td>\n",
       "    </tr>\n",
       "    <tr>\n",
       "      <th>3</th>\n",
       "      <td>1</td>\n",
       "      <td>8</td>\n",
       "      <td>304.0</td>\n",
       "      <td>150.0</td>\n",
       "      <td>3433</td>\n",
       "      <td>12.0</td>\n",
       "      <td>1970</td>\n",
       "      <td>6.802299</td>\n",
       "      <td>amc</td>\n",
       "      <td>rebelsst</td>\n",
       "      <td>1.917261</td>\n",
       "    </tr>\n",
       "    <tr>\n",
       "      <th>4</th>\n",
       "      <td>1</td>\n",
       "      <td>8</td>\n",
       "      <td>302.0</td>\n",
       "      <td>140.0</td>\n",
       "      <td>3449</td>\n",
       "      <td>10.5</td>\n",
       "      <td>1970</td>\n",
       "      <td>7.227443</td>\n",
       "      <td>ford</td>\n",
       "      <td>torino</td>\n",
       "      <td>1.977885</td>\n",
       "    </tr>\n",
       "  </tbody>\n",
       "</table>\n",
       "</div>"
      ],
      "text/plain": [
       "  origin cylinders  displacement  horsepower  weight  acceleration  year  \\\n",
       "0      1         8         307.0       130.0    3504          12.0  1970   \n",
       "1      1         8         350.0       165.0    3693          11.5  1970   \n",
       "2      1         8         318.0       150.0    3436          11.0  1970   \n",
       "3      1         8         304.0       150.0    3433          12.0  1970   \n",
       "4      1         8         302.0       140.0    3449          10.5  1970   \n",
       "\n",
       "   Kilometer_per_liter manufacturer           model  Kmperliter_log  \n",
       "0             7.652587    chevrolet  chevellemalibu        2.035044  \n",
       "1             6.377156        buick      skylark320        1.852722  \n",
       "2             7.652587     plymouth       satellite        2.035044  \n",
       "3             6.802299          amc        rebelsst        1.917261  \n",
       "4             7.227443         ford          torino        1.977885  "
      ]
     },
     "execution_count": 150,
     "metadata": {},
     "output_type": "execute_result"
    }
   ],
   "source": [
    "#1. Analysis of kilometer_per_liter with horsepower\n",
    "data_3.head(5)"
   ]
  },
  {
   "cell_type": "code",
   "execution_count": 151,
   "id": "b0a4795d-5abe-4e78-ab68-fb0f64c90acd",
   "metadata": {},
   "outputs": [
    {
     "name": "stderr",
     "output_type": "stream",
     "text": [
      "C:\\Users\\ABC\\anaconda3\\lib\\site-packages\\seaborn\\_decorators.py:36: FutureWarning: Pass the following variables as keyword args: x, y. From version 0.12, the only valid positional argument will be `data`, and passing other arguments without an explicit keyword will result in an error or misinterpretation.\n",
      "  warnings.warn(\n"
     ]
    },
    {
     "data": {
      "text/plain": [
       "<seaborn.axisgrid.JointGrid at 0xbfa5aadf40>"
      ]
     },
     "execution_count": 151,
     "metadata": {},
     "output_type": "execute_result"
    },
    {
     "data": {
      "image/png": "[encoded data removed]",
      "text/plain": [
       "<Figure size 432x432 with 3 Axes>"
      ]
     },
     "metadata": {},
     "output_type": "display_data"
    }
   ],
   "source": [
    "x = data_3[['Kilometer_per_liter','horsepower']]\n",
    "sns.jointplot(x.loc[:,'horsepower'], x.loc[:,'Kilometer_per_liter'], kind=\"reg\", color=\"#ce1414\")"
   ]
  },
  {
   "cell_type": "code",
   "execution_count": 152,
   "id": "3a36d539-eee6-486c-b3d5-5b0d2e86f7e0",
   "metadata": {},
   "outputs": [],
   "source": [
    "#We can see from the plot that as horsepower increase Kilpmeter_per_liter decreases."
   ]
  },
  {
   "cell_type": "code",
   "execution_count": 153,
   "id": "a70f5a7a-81b2-4130-9264-8297424a2122",
   "metadata": {},
   "outputs": [],
   "source": [
    "# 2. Analysis of kilometer_per_liter with weight\n"
   ]
  },
  {
   "cell_type": "code",
   "execution_count": 154,
   "id": "7235f496-d096-4d7a-a811-c4d2b68163c2",
   "metadata": {},
   "outputs": [
    {
     "name": "stderr",
     "output_type": "stream",
     "text": [
      "C:\\Users\\ABC\\anaconda3\\lib\\site-packages\\seaborn\\_decorators.py:36: FutureWarning: Pass the following variables as keyword args: x, y. From version 0.12, the only valid positional argument will be `data`, and passing other arguments without an explicit keyword will result in an error or misinterpretation.\n",
      "  warnings.warn(\n"
     ]
    },
    {
     "data": {
      "text/plain": [
       "<seaborn.axisgrid.JointGrid at 0xbfa6b94700>"
      ]
     },
     "execution_count": 154,
     "metadata": {},
     "output_type": "execute_result"
    },
    {
     "data": {
      "image/png": "[encoded data removed]",
      "text/plain": [
       "<Figure size 432x432 with 3 Axes>"
      ]
     },
     "metadata": {},
     "output_type": "display_data"
    }
   ],
   "source": [
    "x = data_3[['Kilometer_per_liter','weight']]\n",
    "sns.jointplot(x.loc[:,'weight'], x.loc[:,'Kilometer_per_liter'], kind=\"reg\", color=\"#ce1414\")"
   ]
  },
  {
   "cell_type": "code",
   "execution_count": 155,
   "id": "9e42bc02-226b-49da-abc0-f95d94b423a4",
   "metadata": {},
   "outputs": [],
   "source": [
    "#3. Analysis of kilometer_per_liter with accleration"
   ]
  },
  {
   "cell_type": "code",
   "execution_count": 156,
   "id": "51448283-6165-431c-9dc9-45f8f0e51610",
   "metadata": {},
   "outputs": [
    {
     "name": "stderr",
     "output_type": "stream",
     "text": [
      "C:\\Users\\ABC\\anaconda3\\lib\\site-packages\\seaborn\\_decorators.py:36: FutureWarning: Pass the following variables as keyword args: x, y. From version 0.12, the only valid positional argument will be `data`, and passing other arguments without an explicit keyword will result in an error or misinterpretation.\n",
      "  warnings.warn(\n"
     ]
    },
    {
     "data": {
      "text/plain": [
       "<seaborn.axisgrid.JointGrid at 0xbfa7340e50>"
      ]
     },
     "execution_count": 156,
     "metadata": {},
     "output_type": "execute_result"
    },
    {
     "data": {
      "image/png": "[encoded data removed]",
      "text/plain": [
       "<Figure size 432x432 with 3 Axes>"
      ]
     },
     "metadata": {},
     "output_type": "display_data"
    }
   ],
   "source": [
    "x = data_3[['Kilometer_per_liter','displacement']]\n",
    "sns.jointplot(x.loc[:,'displacement'], x.loc[:,'Kilometer_per_liter'], kind=\"reg\", color=\"#ce1414\")"
   ]
  },
  {
   "cell_type": "code",
   "execution_count": 157,
   "id": "ded8ee31-70e3-4efa-a66e-a2c8b9ac2f96",
   "metadata": {},
   "outputs": [],
   "source": [
    "# From plot we can see a inverse relationship"
   ]
  },
  {
   "cell_type": "code",
   "execution_count": 158,
   "id": "f6ba7798-6b7e-4653-9e30-e1a63267c049",
   "metadata": {},
   "outputs": [],
   "source": [
    "# 5. Analysis of kilometer_per_liter with cylinders\n"
   ]
  },
  {
   "cell_type": "code",
   "execution_count": 159,
   "id": "d4e41472-ba31-4736-bc10-32e4109f9283",
   "metadata": {},
   "outputs": [
    {
     "data": {
      "image/png": "[encoded data removed]",
      "text/plain": [
       "<Figure size 432x288 with 1 Axes>"
      ]
     },
     "metadata": {},
     "output_type": "display_data"
    }
   ],
   "source": [
    "sns.boxplot(y='Kilometer_per_liter',x='cylinders',data=data_3,palette = \"rainbow\")\n",
    "plt.show()"
   ]
  },
  {
   "cell_type": "code",
   "execution_count": 160,
   "id": "ebf5c6f2-85aa-4fb5-a40a-f930342c428a",
   "metadata": {},
   "outputs": [],
   "source": [
    "#We can easily visualize that the mileage per gallon (mpg) of 4 cylinder vehicles is maximum and we also saw that most of the vehicles are 4 cylinder."
   ]
  },
  {
   "cell_type": "code",
   "execution_count": 161,
   "id": "73089f38-a447-4c5c-84e9-0b7262abf12c",
   "metadata": {},
   "outputs": [],
   "source": [
    "# 6. Analysis of kilometer_per_liter with year"
   ]
  },
  {
   "cell_type": "code",
   "execution_count": 162,
   "id": "9e1259a5-2c5c-4e59-b86a-5895133bab1e",
   "metadata": {},
   "outputs": [
    {
     "data": {
      "image/png": "[encoded data removed]",
      "text/plain": [
       "<Figure size 432x288 with 1 Axes>"
      ]
     },
     "metadata": {},
     "output_type": "display_data"
    }
   ],
   "source": [
    "sns.boxplot(y='Kilometer_per_liter',x='year',data=data,palette = \"rainbow\")\n",
    "plt.show()\n"
   ]
  },
  {
   "cell_type": "code",
   "execution_count": 163,
   "id": "ce365c60-502f-411e-8af7-7a4472a3f99a",
   "metadata": {},
   "outputs": [],
   "source": [
    "#With every year and with the newer models of the vehicles mileage per gallon (mpg) also increases.\n"
   ]
  },
  {
   "cell_type": "code",
   "execution_count": 164,
   "id": "28c91fb2-7d70-4b70-9ff9-898bfac94f1f",
   "metadata": {},
   "outputs": [
    {
     "data": {
      "image/png": "[encoded data removed]",
      "text/plain": [
       "<Figure size 720x720 with 2 Axes>"
      ]
     },
     "metadata": {},
     "output_type": "display_data"
    }
   ],
   "source": [
    "#Covariance\n",
    "plt.figure(figsize=(10,10))\n",
    "sns.heatmap(data_3.cov(),annot=True,linewidth=0.5,center=0,cmap='rainbow')\n",
    "plt.show()"
   ]
  },
  {
   "cell_type": "code",
   "execution_count": 165,
   "id": "52920860-629e-496f-9ea6-fd895647c497",
   "metadata": {},
   "outputs": [],
   "source": [
    "#A positive covariance means that asset returns move together while a negative covariance means they move inversely. "
   ]
  },
  {
   "cell_type": "code",
   "execution_count": 166,
   "id": "45fb6c0d-11b0-4c2d-a20e-265f6016d126",
   "metadata": {},
   "outputs": [],
   "source": [
    "# Correlation"
   ]
  },
  {
   "cell_type": "code",
   "execution_count": 168,
   "id": "7a1eae20-1228-4928-9e31-1a857fa05d5d",
   "metadata": {},
   "outputs": [
    {
     "data": {
      "text/html": [
       "<div>\n",
       "<style scoped>\n",
       "    .dataframe tbody tr th:only-of-type {\n",
       "        vertical-align: middle;\n",
       "    }\n",
       "\n",
       "    .dataframe tbody tr th {\n",
       "        vertical-align: top;\n",
       "    }\n",
       "\n",
       "    .dataframe thead th {\n",
       "        text-align: right;\n",
       "    }\n",
       "</style>\n",
       "<table border=\"1\" class=\"dataframe\">\n",
       "  <thead>\n",
       "    <tr style=\"text-align: right;\">\n",
       "      <th></th>\n",
       "      <th>displacement</th>\n",
       "      <th>horsepower</th>\n",
       "      <th>weight</th>\n",
       "      <th>acceleration</th>\n",
       "      <th>year</th>\n",
       "    </tr>\n",
       "  </thead>\n",
       "  <tbody>\n",
       "    <tr>\n",
       "      <th>displacement</th>\n",
       "      <td>1.000000</td>\n",
       "      <td>0.897257</td>\n",
       "      <td>0.932994</td>\n",
       "      <td>-0.543800</td>\n",
       "      <td>-0.369855</td>\n",
       "    </tr>\n",
       "    <tr>\n",
       "      <th>horsepower</th>\n",
       "      <td>0.897257</td>\n",
       "      <td>1.000000</td>\n",
       "      <td>0.864538</td>\n",
       "      <td>-0.689196</td>\n",
       "      <td>-0.416361</td>\n",
       "    </tr>\n",
       "    <tr>\n",
       "      <th>weight</th>\n",
       "      <td>0.932994</td>\n",
       "      <td>0.864538</td>\n",
       "      <td>1.000000</td>\n",
       "      <td>-0.416839</td>\n",
       "      <td>-0.309120</td>\n",
       "    </tr>\n",
       "    <tr>\n",
       "      <th>acceleration</th>\n",
       "      <td>-0.543800</td>\n",
       "      <td>-0.689196</td>\n",
       "      <td>-0.416839</td>\n",
       "      <td>1.000000</td>\n",
       "      <td>0.290316</td>\n",
       "    </tr>\n",
       "    <tr>\n",
       "      <th>year</th>\n",
       "      <td>-0.369855</td>\n",
       "      <td>-0.416361</td>\n",
       "      <td>-0.309120</td>\n",
       "      <td>0.290316</td>\n",
       "      <td>1.000000</td>\n",
       "    </tr>\n",
       "  </tbody>\n",
       "</table>\n",
       "</div>"
      ],
      "text/plain": [
       "              displacement  horsepower    weight  acceleration      year\n",
       "displacement      1.000000    0.897257  0.932994     -0.543800 -0.369855\n",
       "horsepower        0.897257    1.000000  0.864538     -0.689196 -0.416361\n",
       "weight            0.932994    0.864538  1.000000     -0.416839 -0.309120\n",
       "acceleration     -0.543800   -0.689196 -0.416839      1.000000  0.290316\n",
       "year             -0.369855   -0.416361 -0.309120      0.290316  1.000000"
      ]
     },
     "execution_count": 168,
     "metadata": {},
     "output_type": "execute_result"
    }
   ],
   "source": [
    "# check correlation\n",
    "data_num = data_3.drop(['Kilometer_per_liter','Kmperliter_log','origin'],axis = 1)\n",
    "corr = data_num.corr()\n",
    "corr"
   ]
  },
  {
   "cell_type": "code",
   "execution_count": 169,
   "id": "87439130-b536-4a81-9984-cc0b81e0e759",
   "metadata": {},
   "outputs": [
    {
     "data": {
      "text/plain": [
       "<AxesSubplot:>"
      ]
     },
     "execution_count": 169,
     "metadata": {},
     "output_type": "execute_result"
    },
    {
     "data": {
      "image/png": "[encoded data removed]",
      "text/plain": [
       "<Figure size 720x720 with 2 Axes>"
      ]
     },
     "metadata": {},
     "output_type": "display_data"
    }
   ],
   "source": [
    "#correlation map\n",
    "f,ax = plt.subplots(figsize=(10, 10))\n",
    "sns.heatmap(data_num.corr(), annot=True, linewidths=.5, fmt= '.1f',ax=ax)"
   ]
  },
  {
   "cell_type": "code",
   "execution_count": 179,
   "id": "634f6647-008c-4aac-bf83-d7ebaa256f51",
   "metadata": {},
   "outputs": [
    {
     "data": {
      "image/png": "[encoded data removed]",
      "text/plain": [
       "<Figure size 2160x1080 with 2 Axes>"
      ]
     },
     "metadata": {},
     "output_type": "display_data"
    }
   ],
   "source": [
    "plt.figure(figsize=(30, 15))\n",
    "sns.heatmap(corr[(corr >= 0.8) ], \n",
    "            cmap='YlGnBu', vmax=1.0, vmin=-1.0,\n",
    "            annot=True, annot_kws={\"size\": 15})\n",
    "\n",
    "plt.title('Correlation between features', fontsize=15)\n",
    "\n",
    "plt.show()"
   ]
  },
  {
   "cell_type": "code",
   "execution_count": 180,
   "id": "1b42ec8e-ff1e-4f88-b822-3c4ce3e5c1bf",
   "metadata": {},
   "outputs": [],
   "source": [
    "#By looking at the correlation matrix we can see that variables 'displacement','weight' and 'horse' have a strong positive correlation with each other. \n",
    "#These feature pairs are strongly correlated to each other. \n",
    "#Ideally, we should not select these features together for training the model. "
   ]
  },
  {
   "cell_type": "code",
   "execution_count": 192,
   "id": "41f73a3e-31b6-46d5-bba5-fb79bbb13998",
   "metadata": {},
   "outputs": [
    {
     "data": {
      "text/html": [
       "<div>\n",
       "<style scoped>\n",
       "    .dataframe tbody tr th:only-of-type {\n",
       "        vertical-align: middle;\n",
       "    }\n",
       "\n",
       "    .dataframe tbody tr th {\n",
       "        vertical-align: top;\n",
       "    }\n",
       "\n",
       "    .dataframe thead th {\n",
       "        text-align: right;\n",
       "    }\n",
       "</style>\n",
       "<table border=\"1\" class=\"dataframe\">\n",
       "  <thead>\n",
       "    <tr style=\"text-align: right;\">\n",
       "      <th></th>\n",
       "      <th>origin</th>\n",
       "      <th>cylinders</th>\n",
       "      <th>horsepower</th>\n",
       "      <th>acceleration</th>\n",
       "      <th>year</th>\n",
       "      <th>Kilometer_per_liter</th>\n",
       "      <th>Kmperliter_log</th>\n",
       "    </tr>\n",
       "  </thead>\n",
       "  <tbody>\n",
       "    <tr>\n",
       "      <th>0</th>\n",
       "      <td>1</td>\n",
       "      <td>8</td>\n",
       "      <td>130.0</td>\n",
       "      <td>12.0</td>\n",
       "      <td>1970</td>\n",
       "      <td>7.652587</td>\n",
       "      <td>2.035044</td>\n",
       "    </tr>\n",
       "    <tr>\n",
       "      <th>1</th>\n",
       "      <td>1</td>\n",
       "      <td>8</td>\n",
       "      <td>165.0</td>\n",
       "      <td>11.5</td>\n",
       "      <td>1970</td>\n",
       "      <td>6.377156</td>\n",
       "      <td>1.852722</td>\n",
       "    </tr>\n",
       "    <tr>\n",
       "      <th>2</th>\n",
       "      <td>1</td>\n",
       "      <td>8</td>\n",
       "      <td>150.0</td>\n",
       "      <td>11.0</td>\n",
       "      <td>1970</td>\n",
       "      <td>7.652587</td>\n",
       "      <td>2.035044</td>\n",
       "    </tr>\n",
       "    <tr>\n",
       "      <th>3</th>\n",
       "      <td>1</td>\n",
       "      <td>8</td>\n",
       "      <td>150.0</td>\n",
       "      <td>12.0</td>\n",
       "      <td>1970</td>\n",
       "      <td>6.802299</td>\n",
       "      <td>1.917261</td>\n",
       "    </tr>\n",
       "    <tr>\n",
       "      <th>4</th>\n",
       "      <td>1</td>\n",
       "      <td>8</td>\n",
       "      <td>140.0</td>\n",
       "      <td>10.5</td>\n",
       "      <td>1970</td>\n",
       "      <td>7.227443</td>\n",
       "      <td>1.977885</td>\n",
       "    </tr>\n",
       "  </tbody>\n",
       "</table>\n",
       "</div>"
      ],
      "text/plain": [
       "  origin cylinders  horsepower  acceleration  year  Kilometer_per_liter  \\\n",
       "0      1         8       130.0          12.0  1970             7.652587   \n",
       "1      1         8       165.0          11.5  1970             6.377156   \n",
       "2      1         8       150.0          11.0  1970             7.652587   \n",
       "3      1         8       150.0          12.0  1970             6.802299   \n",
       "4      1         8       140.0          10.5  1970             7.227443   \n",
       "\n",
       "   Kmperliter_log  \n",
       "0        2.035044  \n",
       "1        1.852722  \n",
       "2        2.035044  \n",
       "3        1.917261  \n",
       "4        1.977885  "
      ]
     },
     "execution_count": 192,
     "metadata": {},
     "output_type": "execute_result"
    }
   ],
   "source": [
    "drop_list = ['weight','displacement','manufacturer', 'model']\n",
    "data_cleaned = data_3.drop(drop_list,axis = 1 )        \n",
    "data_cleaned.head()"
   ]
  },
  {
   "cell_type": "code",
   "execution_count": 193,
   "id": "8adb4216-72f4-4281-934b-26f5e836209e",
   "metadata": {},
   "outputs": [
    {
     "name": "stdout",
     "output_type": "stream",
     "text": [
      "<class 'pandas.core.frame.DataFrame'>\n",
      "Int64Index: 392 entries, 0 to 397\n",
      "Data columns (total 7 columns):\n",
      " #   Column               Non-Null Count  Dtype  \n",
      "---  ------               --------------  -----  \n",
      " 0   origin               392 non-null    object \n",
      " 1   cylinders            392 non-null    object \n",
      " 2   horsepower           392 non-null    float64\n",
      " 3   acceleration         392 non-null    float64\n",
      " 4   year                 392 non-null    int64  \n",
      " 5   Kilometer_per_liter  392 non-null    float64\n",
      " 6   Kmperliter_log       392 non-null    float64\n",
      "dtypes: float64(4), int64(1), object(2)\n",
      "memory usage: 32.6+ KB\n"
     ]
    }
   ],
   "source": [
    "data_cleaned.info()"
   ]
  },
  {
   "cell_type": "code",
   "execution_count": 198,
   "id": "f18b93c4-a18b-4539-b885-35af2bd9ec71",
   "metadata": {},
   "outputs": [],
   "source": [
    "data_cleaned[\"cylinders\"] = data_cleaned[\"cylinders\"].astype(int)"
   ]
  },
  {
   "cell_type": "code",
   "execution_count": 199,
   "id": "c23637f9-5b70-4197-aad1-271ad75dccfe",
   "metadata": {},
   "outputs": [
    {
     "name": "stdout",
     "output_type": "stream",
     "text": [
      "<class 'pandas.core.frame.DataFrame'>\n",
      "Int64Index: 392 entries, 0 to 397\n",
      "Data columns (total 7 columns):\n",
      " #   Column               Non-Null Count  Dtype  \n",
      "---  ------               --------------  -----  \n",
      " 0   origin               392 non-null    object \n",
      " 1   cylinders            392 non-null    int32  \n",
      " 2   horsepower           392 non-null    float64\n",
      " 3   acceleration         392 non-null    float64\n",
      " 4   year                 392 non-null    int64  \n",
      " 5   Kilometer_per_liter  392 non-null    float64\n",
      " 6   Kmperliter_log       392 non-null    float64\n",
      "dtypes: float64(4), int32(1), int64(1), object(1)\n",
      "memory usage: 31.1+ KB\n"
     ]
    }
   ],
   "source": [
    "data_cleaned.info()"
   ]
  },
  {
   "cell_type": "code",
   "execution_count": 185,
   "id": "19df9cbc-550c-4564-a791-645211c5e8a7",
   "metadata": {},
   "outputs": [],
   "source": [
    "# Label Encoding of Categorical Data"
   ]
  },
  {
   "cell_type": "code",
   "execution_count": 200,
   "id": "aa4b552a-23d5-495a-be02-d5e1b716b80b",
   "metadata": {},
   "outputs": [
    {
     "data": {
      "text/html": [
       "<div>\n",
       "<style scoped>\n",
       "    .dataframe tbody tr th:only-of-type {\n",
       "        vertical-align: middle;\n",
       "    }\n",
       "\n",
       "    .dataframe tbody tr th {\n",
       "        vertical-align: top;\n",
       "    }\n",
       "\n",
       "    .dataframe thead th {\n",
       "        text-align: right;\n",
       "    }\n",
       "</style>\n",
       "<table border=\"1\" class=\"dataframe\">\n",
       "  <thead>\n",
       "    <tr style=\"text-align: right;\">\n",
       "      <th></th>\n",
       "      <th>cylinders</th>\n",
       "      <th>horsepower</th>\n",
       "      <th>acceleration</th>\n",
       "      <th>year</th>\n",
       "      <th>Kilometer_per_liter</th>\n",
       "      <th>Kmperliter_log</th>\n",
       "      <th>origin_2</th>\n",
       "      <th>origin_3</th>\n",
       "    </tr>\n",
       "  </thead>\n",
       "  <tbody>\n",
       "    <tr>\n",
       "      <th>0</th>\n",
       "      <td>8</td>\n",
       "      <td>130.0</td>\n",
       "      <td>12.0</td>\n",
       "      <td>1970</td>\n",
       "      <td>7.652587</td>\n",
       "      <td>2.035044</td>\n",
       "      <td>0</td>\n",
       "      <td>0</td>\n",
       "    </tr>\n",
       "    <tr>\n",
       "      <th>1</th>\n",
       "      <td>8</td>\n",
       "      <td>165.0</td>\n",
       "      <td>11.5</td>\n",
       "      <td>1970</td>\n",
       "      <td>6.377156</td>\n",
       "      <td>1.852722</td>\n",
       "      <td>0</td>\n",
       "      <td>0</td>\n",
       "    </tr>\n",
       "    <tr>\n",
       "      <th>2</th>\n",
       "      <td>8</td>\n",
       "      <td>150.0</td>\n",
       "      <td>11.0</td>\n",
       "      <td>1970</td>\n",
       "      <td>7.652587</td>\n",
       "      <td>2.035044</td>\n",
       "      <td>0</td>\n",
       "      <td>0</td>\n",
       "    </tr>\n",
       "    <tr>\n",
       "      <th>3</th>\n",
       "      <td>8</td>\n",
       "      <td>150.0</td>\n",
       "      <td>12.0</td>\n",
       "      <td>1970</td>\n",
       "      <td>6.802299</td>\n",
       "      <td>1.917261</td>\n",
       "      <td>0</td>\n",
       "      <td>0</td>\n",
       "    </tr>\n",
       "    <tr>\n",
       "      <th>4</th>\n",
       "      <td>8</td>\n",
       "      <td>140.0</td>\n",
       "      <td>10.5</td>\n",
       "      <td>1970</td>\n",
       "      <td>7.227443</td>\n",
       "      <td>1.977885</td>\n",
       "      <td>0</td>\n",
       "      <td>0</td>\n",
       "    </tr>\n",
       "  </tbody>\n",
       "</table>\n",
       "</div>"
      ],
      "text/plain": [
       "   cylinders  horsepower  acceleration  year  Kilometer_per_liter  \\\n",
       "0          8       130.0          12.0  1970             7.652587   \n",
       "1          8       165.0          11.5  1970             6.377156   \n",
       "2          8       150.0          11.0  1970             7.652587   \n",
       "3          8       150.0          12.0  1970             6.802299   \n",
       "4          8       140.0          10.5  1970             7.227443   \n",
       "\n",
       "   Kmperliter_log  origin_2  origin_3  \n",
       "0        2.035044         0         0  \n",
       "1        1.852722         0         0  \n",
       "2        2.035044         0         0  \n",
       "3        1.917261         0         0  \n",
       "4        1.977885         0         0  "
      ]
     },
     "execution_count": 200,
     "metadata": {},
     "output_type": "execute_result"
    }
   ],
   "source": [
    "data_with_dummies = pd.get_dummies(data_cleaned,drop_first=True)\n",
    "data_with_dummies.head()"
   ]
  },
  {
   "cell_type": "code",
   "execution_count": 201,
   "id": "a48bbd0d-6324-4797-8afb-a9fe47d9f15f",
   "metadata": {},
   "outputs": [],
   "source": [
    "# Standardise Data bringing data to same scale"
   ]
  },
  {
   "cell_type": "code",
   "execution_count": 202,
   "id": "8e9cf4ab-d4a3-4ee8-9005-892859de3807",
   "metadata": {},
   "outputs": [],
   "source": [
    "from sklearn.preprocessing import MinMaxScaler"
   ]
  },
  {
   "cell_type": "code",
   "execution_count": 204,
   "id": "a431550e-1e5a-474e-a7f5-da5634447abb",
   "metadata": {},
   "outputs": [],
   "source": [
    "x = data_with_dummies.drop(['Kilometer_per_liter','Kmperliter_log'],axis = 1)"
   ]
  },
  {
   "cell_type": "code",
   "execution_count": 205,
   "id": "c02ec455-c8a5-4e3f-a412-7cb8a8834200",
   "metadata": {},
   "outputs": [
    {
     "data": {
      "text/plain": [
       "MinMaxScaler()"
      ]
     },
     "execution_count": 205,
     "metadata": {},
     "output_type": "execute_result"
    }
   ],
   "source": [
    "scaler = MinMaxScaler()\n",
    "scaler.fit(x)"
   ]
  },
  {
   "cell_type": "code",
   "execution_count": 207,
   "id": "040bdc2b-f9ba-4c58-8115-1e6074554053",
   "metadata": {},
   "outputs": [],
   "source": [
    "X = scaler.fit_transform(x)"
   ]
  },
  {
   "cell_type": "code",
   "execution_count": 209,
   "id": "5796a942-49ef-4322-af06-4eaa605fbcf2",
   "metadata": {},
   "outputs": [],
   "source": [
    "Y = data_with_dummies.Kmperliter_log"
   ]
  },
  {
   "cell_type": "code",
   "execution_count": 220,
   "id": "9fd8ff1e-045f-478f-9013-96ff5e66e25d",
   "metadata": {},
   "outputs": [],
   "source": [
    "#Split data into train and test"
   ]
  },
  {
   "cell_type": "code",
   "execution_count": 222,
   "id": "7fb8fbe2-9c02-4e90-8682-7c13df5cc28c",
   "metadata": {},
   "outputs": [
    {
     "name": "stdout",
     "output_type": "stream",
     "text": [
      "X_train  (313, 6)\n",
      "X_test  (79, 6)\n",
      "y_train  (313,)\n",
      "y_test  (79,)\n"
     ]
    }
   ],
   "source": [
    "from sklearn.model_selection import train_test_split\n",
    "# let us now split the dataset into train & test\n",
    "X_train, X_test, Y_train, Y_test = train_test_split(X, Y, test_size = 0.20, random_state=10)\n",
    "\n",
    "# print the shape of 'x_train'\n",
    "print(\"X_train \",X_train.shape)\n",
    "\n",
    "# print the shape of 'x_test'\n",
    "print(\"X_test \",X_test.shape)\n",
    "\n",
    "# print the shape of 'y_train'\n",
    "print(\"y_train \",Y_train.shape)\n",
    "\n",
    "# print the shape of 'y_test'\n",
    "print(\"y_test \",Y_test.shape)"
   ]
  },
  {
   "cell_type": "code",
   "execution_count": 223,
   "id": "47af8119-6287-4224-8c6f-404ade81e993",
   "metadata": {},
   "outputs": [],
   "source": [
    "#Linear Regression"
   ]
  },
  {
   "cell_type": "code",
   "execution_count": 225,
   "id": "e143c9d3-f80d-46ea-be6f-ded76bab22aa",
   "metadata": {},
   "outputs": [],
   "source": [
    "#Now we build a Linear regression model. We start with our data set gradually proceeding with our analysis\n",
    "\n",
    "#In order to build a Linear regression model, we do the following:\n",
    "#1. Build the model\n",
    "#2. Predict the values\n",
    "#3. Compute the accuracy measures\n",
    "#4. Tabulate the results \n",
    "# using sklearn"
   ]
  },
  {
   "cell_type": "code",
   "execution_count": 227,
   "id": "e6193ee3-5ca5-41b4-a2c7-8acee20eea61",
   "metadata": {},
   "outputs": [
    {
     "data": {
      "text/plain": [
       "LinearRegression()"
      ]
     },
     "execution_count": 227,
     "metadata": {},
     "output_type": "execute_result"
    }
   ],
   "source": [
    "from sklearn.linear_model import LinearRegression\n",
    "# build the model\n",
    "OLS_model = LinearRegression()\n",
    "\n",
    "# fit the model\n",
    "OLS_model.fit(X_train, Y_train)"
   ]
  },
  {
   "cell_type": "code",
   "execution_count": 229,
   "id": "7f8a2b2d-9bc2-4227-b8d4-c444faa27a98",
   "metadata": {},
   "outputs": [],
   "source": [
    "# predict the values\n",
    "Y_pred_OLS = OLS_model.predict(X_test)"
   ]
  },
  {
   "cell_type": "code",
   "execution_count": 231,
   "id": "efd622c2-1ef2-404e-8009-5f8c792a1177",
   "metadata": {},
   "outputs": [
    {
     "data": {
      "text/plain": [
       "(79,)"
      ]
     },
     "execution_count": 231,
     "metadata": {},
     "output_type": "execute_result"
    }
   ],
   "source": [
    "Y_pred_OLS.shape"
   ]
  },
  {
   "cell_type": "code",
   "execution_count": 232,
   "id": "0820cb0d-c81d-4c18-8f6f-73a551666e51",
   "metadata": {},
   "outputs": [],
   "source": [
    "# Before we compute accuracy let's plot the predicted values"
   ]
  },
  {
   "cell_type": "code",
   "execution_count": 233,
   "id": "a9fae2ee-c493-4ab1-b371-3c23e806f8c4",
   "metadata": {},
   "outputs": [
    {
     "data": {
      "image/png": "[encoded data removed]",
      "text/plain": [
       "<Figure size 432x288 with 1 Axes>"
      ]
     },
     "metadata": {},
     "output_type": "display_data"
    }
   ],
   "source": [
    "plt.scatter(Y_test,Y_pred_OLS)\n",
    "plt.xlabel('Targets' ,size = 18)\n",
    "plt.ylabel('Predictions',size = 18)\n",
    "plt.show()"
   ]
  },
  {
   "cell_type": "code",
   "execution_count": 234,
   "id": "04e375e3-4fb7-4e8c-a340-a53d2537665b",
   "metadata": {},
   "outputs": [],
   "source": [
    "# Compute accuracy measures"
   ]
  },
  {
   "cell_type": "code",
   "execution_count": 235,
   "id": "2ea6567e-6f86-4adc-904c-a25eb6e5b228",
   "metadata": {},
   "outputs": [],
   "source": [
    "# compute the R-Squared\n",
    "r_squared_OLS = OLS_model.score(X_train,Y_train)\n",
    "\n",
    "# Number of observation or sample size\n",
    "n = 313 \n",
    "\n",
    "# No of independent variables\n",
    "p = 9\n",
    "\n",
    "#Compute Adj-R-Squared\n",
    "Adj_r_squared_OLS = 1 - (1-r_squared_OLS)*(n-1)/(n-p-1)\n",
    "\n",
    "# Compute RMSE\n",
    "from sklearn.metrics import mean_squared_error\n",
    "from math import sqrt\n",
    "\n",
    "rmse_OLS = sqrt(mean_squared_error(Y_test, Y_pred_OLS))"
   ]
  },
  {
   "cell_type": "code",
   "execution_count": 236,
   "id": "36ec4d75-b1b8-4190-9726-efdff8de4418",
   "metadata": {},
   "outputs": [],
   "source": [
    "# Tabulate the results"
   ]
  },
  {
   "cell_type": "code",
   "execution_count": 237,
   "id": "df39d93a-490d-4552-a46c-3d2fb5e28be3",
   "metadata": {},
   "outputs": [
    {
     "data": {
      "text/html": [
       "<div>\n",
       "<style scoped>\n",
       "    .dataframe tbody tr th:only-of-type {\n",
       "        vertical-align: middle;\n",
       "    }\n",
       "\n",
       "    .dataframe tbody tr th {\n",
       "        vertical-align: top;\n",
       "    }\n",
       "\n",
       "    .dataframe thead th {\n",
       "        text-align: right;\n",
       "    }\n",
       "</style>\n",
       "<table border=\"1\" class=\"dataframe\">\n",
       "  <thead>\n",
       "    <tr style=\"text-align: right;\">\n",
       "      <th></th>\n",
       "      <th>Model</th>\n",
       "      <th>R-squared</th>\n",
       "      <th>Adj R-squared</th>\n",
       "      <th>RMSE</th>\n",
       "    </tr>\n",
       "  </thead>\n",
       "  <tbody>\n",
       "    <tr>\n",
       "      <th>0</th>\n",
       "      <td>OLS</td>\n",
       "      <td>0.847115</td>\n",
       "      <td>0.842574</td>\n",
       "      <td>0.153305</td>\n",
       "    </tr>\n",
       "  </tbody>\n",
       "</table>\n",
       "</div>"
      ],
      "text/plain": [
       "  Model  R-squared  Adj R-squared      RMSE\n",
       "0   OLS   0.847115       0.842574  0.153305"
      ]
     },
     "execution_count": 237,
     "metadata": {},
     "output_type": "execute_result"
    }
   ],
   "source": [
    "# create the result table for all accuracy scores\n",
    "# Accuracy measures considered for model comparision are 'Model', ''R-squared', 'Adj R-squared', 'RMSE'\n",
    "\n",
    "# create a list of column names\n",
    "cols = ['Model', 'R-squared', 'Adj R-squared', 'RMSE']\n",
    "\n",
    "# creating an empty dataframe of the colums\n",
    "result_tabulation = pd.DataFrame(columns = cols)\n",
    "\n",
    "# compiling the required information\n",
    "OLS_metrics = pd.Series({'Model': \"OLS\",\n",
    "                 'R-squared' : r_squared_OLS, 'Adj R-squared' : Adj_r_squared_OLS , 'RMSE' :rmse_OLS})\n",
    "\n",
    "\n",
    "\n",
    "# appending our result table\n",
    "result_tabulation = result_tabulation.append(OLS_metrics , ignore_index = True)\n",
    "\n",
    "# view the result table\n",
    "result_tabulation"
   ]
  },
  {
   "cell_type": "code",
   "execution_count": 238,
   "id": "9099d536-7221-4454-9e6e-d2e5727bb0dc",
   "metadata": {},
   "outputs": [],
   "source": [
    "# Linear Regression using SGD"
   ]
  },
  {
   "cell_type": "code",
   "execution_count": 239,
   "id": "7c6dade9-acb1-42ac-a884-4ab42bd0fcb3",
   "metadata": {},
   "outputs": [],
   "source": [
    "#Now we build a Linear regression model using SGD Regressor. We start with our original data set gradually proceeding with our analysis\n",
    "\n",
    "#In order to build a Linear regression model using SGD Regressor, we do the following:\n",
    "#1. Build the model\n",
    "#2. Predict the values\n",
    "#3. Compute the accuracy measures\n",
    "#4. Tabulate the results "
   ]
  },
  {
   "cell_type": "code",
   "execution_count": 240,
   "id": "cbeb3cca-f6b7-4fda-ba32-24e05da1d484",
   "metadata": {},
   "outputs": [
    {
     "data": {
      "text/plain": [
       "SGDRegressor(alpha=0.1)"
      ]
     },
     "execution_count": 240,
     "metadata": {},
     "output_type": "execute_result"
    }
   ],
   "source": [
    "from sklearn.linear_model import SGDRegressor\n",
    "\n",
    "# build the model\n",
    "SGD_model = SGDRegressor(loss=\"squared_loss\",alpha = 0.1, max_iter = 1000)\n",
    "\n",
    "# fit the model\n",
    "SGD_model.fit(X_train, Y_train)"
   ]
  },
  {
   "cell_type": "code",
   "execution_count": 241,
   "id": "dcdeaf95-89aa-4d03-b88e-1ac6a1af9b5f",
   "metadata": {},
   "outputs": [],
   "source": [
    "# predict the values\n",
    "Y_pred_SGD  = SGD_model.predict(X_test)"
   ]
  },
  {
   "cell_type": "code",
   "execution_count": 242,
   "id": "2fc96fd7-4d4f-45ab-aad0-b6d526c08ab2",
   "metadata": {},
   "outputs": [
    {
     "data": {
      "image/png": "[encoded data removed]",
      "text/plain": [
       "<Figure size 432x288 with 1 Axes>"
      ]
     },
     "metadata": {},
     "output_type": "display_data"
    }
   ],
   "source": [
    "# Before we compute accuracy let's plot the predicted values\n",
    "plt.scatter(Y_test,Y_pred_SGD)\n",
    "plt.xlabel('Targets' ,size = 18)\n",
    "plt.ylabel('Predictions',size = 18)\n",
    "plt.show()"
   ]
  },
  {
   "cell_type": "code",
   "execution_count": 244,
   "id": "0eb725e2-4287-4353-ac1b-d5505e551e47",
   "metadata": {},
   "outputs": [],
   "source": [
    "# compute the R-Squared\n",
    "r_squared_SGD = SGD_model.score(X_train,Y_train)\n",
    "\n",
    "# Number of observation or sample size\n",
    "n = 313 \n",
    "\n",
    "# No of independent variables\n",
    "p = 9\n",
    "\n",
    "#Compute Adj-R-Squared\n",
    "Adj_r_squared_SGD = 1 - (1-r_squared_SGD)*(n-1)/(n-p-1)\n",
    "\n",
    "# Compute RMSE\n",
    "from sklearn.metrics import mean_squared_error\n",
    "from math import sqrt\n",
    "\n",
    "rmse_SGD = sqrt(mean_squared_error(Y_test, Y_pred_SGD))\n"
   ]
  },
  {
   "cell_type": "code",
   "execution_count": 245,
   "id": "fe3d11ae-3db8-4c47-91d6-6a94a8e35a65",
   "metadata": {},
   "outputs": [
    {
     "data": {
      "text/html": [
       "<div>\n",
       "<style scoped>\n",
       "    .dataframe tbody tr th:only-of-type {\n",
       "        vertical-align: middle;\n",
       "    }\n",
       "\n",
       "    .dataframe tbody tr th {\n",
       "        vertical-align: top;\n",
       "    }\n",
       "\n",
       "    .dataframe thead th {\n",
       "        text-align: right;\n",
       "    }\n",
       "</style>\n",
       "<table border=\"1\" class=\"dataframe\">\n",
       "  <thead>\n",
       "    <tr style=\"text-align: right;\">\n",
       "      <th></th>\n",
       "      <th>Model</th>\n",
       "      <th>R-squared</th>\n",
       "      <th>Adj R-squared</th>\n",
       "      <th>RMSE</th>\n",
       "    </tr>\n",
       "  </thead>\n",
       "  <tbody>\n",
       "    <tr>\n",
       "      <th>0</th>\n",
       "      <td>OLS</td>\n",
       "      <td>0.847115</td>\n",
       "      <td>0.842574</td>\n",
       "      <td>0.153305</td>\n",
       "    </tr>\n",
       "    <tr>\n",
       "      <th>1</th>\n",
       "      <td>SGD</td>\n",
       "      <td>0.553063</td>\n",
       "      <td>0.539787</td>\n",
       "      <td>0.220651</td>\n",
       "    </tr>\n",
       "  </tbody>\n",
       "</table>\n",
       "</div>"
      ],
      "text/plain": [
       "  Model  R-squared  Adj R-squared      RMSE\n",
       "0   OLS   0.847115       0.842574  0.153305\n",
       "1   SGD   0.553063       0.539787  0.220651"
      ]
     },
     "execution_count": 245,
     "metadata": {},
     "output_type": "execute_result"
    }
   ],
   "source": [
    "# compiling the required information\n",
    "SGD_metrics = pd.Series({'Model': \"SGD\",\n",
    "                 'R-squared' : r_squared_SGD, 'Adj R-squared' : Adj_r_squared_SGD , 'RMSE' :rmse_SGD})\n",
    "\n",
    "\n",
    "\n",
    "# appending our result table\n",
    "result_tabulation = result_tabulation.append(SGD_metrics , ignore_index = True)\n",
    "\n",
    "# view the result table\n",
    "result_tabulation"
   ]
  },
  {
   "cell_type": "code",
   "execution_count": 246,
   "id": "7a61b8ea-969d-4033-8c44-2f4464aec301",
   "metadata": {},
   "outputs": [],
   "source": [
    "#It can be seen from the result tabulation, that accuracy measures for the OLS is better than SGD."
   ]
  },
  {
   "cell_type": "code",
   "execution_count": null,
   "id": "2b450dfa-b2f0-4fbc-aa99-5dd8098b878c",
   "metadata": {},
   "outputs": [],
   "source": []
  }
 ],
 "metadata": {
  "kernelspec": {
   "display_name": "Python 3",
   "language": "python",
   "name": "python3"
  },
  "language_info": {
   "codemirror_mode": {
    "name": "ipython",
    "version": 3
   },
   "file_extension": ".py",
   "mimetype": "text/x-python",
   "name": "python",
   "nbconvert_exporter": "python",
   "pygments_lexer": "ipython3",
   "version": "3.8.8"
  }
 },
 "nbformat": 4,
 "nbformat_minor": 5
}
